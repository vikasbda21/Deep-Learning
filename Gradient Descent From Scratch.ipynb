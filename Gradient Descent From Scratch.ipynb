{
 "cells": [
  {
   "cell_type": "markdown",
   "id": "55c0849f",
   "metadata": {},
   "source": [
    "# What is Gradient Descent?\n",
    "Gradient Descent is a first-order optimization technique used to find the local minimum or optimize the loss function. It is also known as the parameter optimization technique."
   ]
  },
  {
   "cell_type": "markdown",
   "id": "5e4aecb3",
   "metadata": {},
   "source": [
    "1. We have to find the best fit line that gives a minimum value of b when the loss is minimum. The loss function is defined as the squared sum of the difference between actual and predicted values.\n",
    "2. To make the problem simple to understand Gradient descent suppose the value of m is given to us and we have to predict the value of intercept(b). so we want to find out the minimum value of b where L(loss) should be the minimum."
   ]
  },
  {
   "cell_type": "markdown",
   "id": "10a695b9",
   "metadata": {},
   "source": [
    "# Implementing Gradient Descent with 1 variable"
   ]
  },
  {
   "cell_type": "code",
   "execution_count": 1,
   "id": "c4fba630",
   "metadata": {},
   "outputs": [
    {
     "data": {
      "text/plain": [
       "<matplotlib.collections.PathCollection at 0x2c9884a6d00>"
      ]
     },
     "execution_count": 1,
     "metadata": {},
     "output_type": "execute_result"
    },
    {
     "data": {
      "image/png": "[encoded data removed]",
      "text/plain": [
       "<Figure size 432x288 with 1 Axes>"
      ]
     },
     "metadata": {
      "needs_background": "light"
     },
     "output_type": "display_data"
    }
   ],
   "source": [
    "from sklearn.datasets import make_regression\n",
    "import numpy as np\n",
    "import matplotlib.pyplot as plt\n",
    "X,y = make_regression(n_samples=4, n_features=1, n_informative=1, n_targets=1, noise=80, random_state=13)\n",
    "plt.scatter(X,y)"
   ]
  },
  {
   "cell_type": "markdown",
   "id": "fb705442",
   "metadata": {},
   "source": [
    "### Get the value of m with OLS"
   ]
  },
  {
   "cell_type": "code",
   "execution_count": 2,
   "id": "cdce46a4",
   "metadata": {},
   "outputs": [
    {
     "name": "stdout",
     "output_type": "stream",
     "text": [
      "[78.35063668]\n",
      "26.15963284313262\n"
     ]
    }
   ],
   "source": [
    "from sklearn.linear_model import LinearRegression\n",
    "reg = LinearRegression()\n",
    "reg.fit(X,y)"
   ]
  },
  {
   "cell_type": "code",
   "execution_count": 4,
   "id": "2a46fc56",
   "metadata": {},
   "outputs": [
    {
     "name": "stdout",
     "output_type": "stream",
     "text": [
      "[78.35063668]\n"
     ]
    }
   ],
   "source": [
    "print(reg.coef_)"
   ]
  },
  {
   "cell_type": "code",
   "execution_count": 5,
   "id": "36af4c4f",
   "metadata": {},
   "outputs": [
    {
     "name": "stdout",
     "output_type": "stream",
     "text": [
      "26.15963284313262\n"
     ]
    }
   ],
   "source": [
    "print(reg.intercept_)"
   ]
  },
  {
   "cell_type": "code",
   "execution_count": 3,
   "id": "7266dfce",
   "metadata": {},
   "outputs": [
    {
     "data": {
      "text/plain": [
       "[<matplotlib.lines.Line2D at 0x2c988e9c7c0>]"
      ]
     },
     "execution_count": 3,
     "metadata": {},
     "output_type": "execute_result"
    },
    {
     "data": {
      "image/png": "[encoded data removed]",
      "text/plain": [
       "<Figure size 432x288 with 1 Axes>"
      ]
     },
     "metadata": {
      "needs_background": "light"
     },
     "output_type": "display_data"
    }
   ],
   "source": [
    "plt.scatter(X,y)\n",
    "plt.plot(X,reg.predict(X),color='red')"
   ]
  },
  {
   "cell_type": "code",
   "execution_count": 6,
   "id": "6e9df09b",
   "metadata": {},
   "outputs": [
    {
     "data": {
      "image/png": "[encoded data removed]",
      "text/plain": [
       "<Figure size 432x288 with 1 Axes>"
      ]
     },
     "metadata": {
      "needs_background": "light"
     },
     "output_type": "display_data"
    }
   ],
   "source": [
    "# First iteration\n",
    "y_pred = ((78.35 * X) + 0).reshape(4)\n",
    "plt.scatter(X,y)\n",
    "plt.plot(X,reg.predict(X),color='red',label='OLS')\n",
    "plt.plot(X,y_pred,color='#00a65a',label='b = 0')\n",
    "plt.legend()\n",
    "plt.show()"
   ]
  },
  {
   "cell_type": "code",
   "execution_count": 7,
   "id": "b544d033",
   "metadata": {},
   "outputs": [
    {
     "name": "stdout",
     "output_type": "stream",
     "text": [
      "-20.927763408209216\n",
      "20.927763408209216\n"
     ]
    }
   ],
   "source": [
    "m = 78.35\n",
    "b = 0\n",
    "loss_slope = -2 * np.sum(y - m*X.ravel() - b) \n",
    "# Lets take learning rate = 0.1\n",
    "lr = 0.1\n",
    "step_size = loss_slope*lr\n",
    "print(step_size)\n",
    "# Calculating the new intercept\n",
    "b = b - step_size\n",
    "print(b)"
   ]
  },
  {
   "cell_type": "code",
   "execution_count": 8,
   "id": "40bd7839",
   "metadata": {},
   "outputs": [
    {
     "name": "stdout",
     "output_type": "stream",
     "text": [
      "25.11331608985106\n"
     ]
    }
   ],
   "source": [
    "# Second iteration\n",
    "loss_slope = -2 * np.sum(y - m*X.ravel() - b)\n",
    "step_size = loss_slope*lr\n",
    "b = b - step_size\n",
    "print(b)"
   ]
  },
  {
   "cell_type": "markdown",
   "id": "85ae39cb",
   "metadata": {},
   "source": [
    "Now the intercept is 25.1 which is very near to the required intercept. If you run one more iteration then I am sure you will get the required intercept and the green line will overtake the red one. "
   ]
  },
  {
   "cell_type": "markdown",
   "id": "2afe0e40",
   "metadata": {},
   "source": [
    "## Gradient Descent for 2 Variables"
   ]
  },
  {
   "cell_type": "markdown",
   "id": "6152a866",
   "metadata": {},
   "source": [
    "### Step-1) Initialize the random value of m and b\n",
    "\n",
    "here we initialize any random value like m is 1 and b is 0.\n",
    "\n",
    "### Step-2) Initialize the number of epochs and learning rate\n",
    "\n",
    "take learning rate small as possible suppose 0.01 and epochs as 100\n",
    "\n",
    "### Step-3) Start calculating the slope and intercept in iterations \n",
    "\n",
    "Now we will apply a loop for several epochs and calculate slope and intercept."
   ]
  },
  {
   "cell_type": "code",
   "execution_count": 9,
   "id": "f79cdf25",
   "metadata": {},
   "outputs": [],
   "source": [
    "from sklearn.datasets import make_regression\n",
    "X, y = make_regression(n_samples=100, n_features=1, n_informative=1, n_targets=1, noise=20, random_state=13)"
   ]
  },
  {
   "cell_type": "code",
   "execution_count": 10,
   "id": "8163191f",
   "metadata": {},
   "outputs": [
    {
     "name": "stdout",
     "output_type": "stream",
     "text": [
      "27.837060471820052 -2.2991839308293196\n"
     ]
    }
   ],
   "source": [
    "class GDRegressor:\n",
    "  def __init__(self, learning_rate, epochs):\n",
    "    self.m = 100\n",
    "    self.b = -120\n",
    "    self.lr = learning_rate\n",
    "    self.epochs = epochs\n",
    "  def fit(self, X, y):\n",
    "    #calculate b and m using GD\n",
    "    for i in range(self.epochs):\n",
    "      loss_slope_b = -2 * np.sum(y - self.m * X.ravel() - self.b)\n",
    "      loss_slope_m = -2 * np.sum((y - self.m * X.ravel() - self.b)*X.ravel())\n",
    "      self.b = self.b - (self.lr * loss_slope_b)\n",
    "      self.m = self.m - (self.lr * loss_slope_m)\n",
    "    print(self.m, self.b)\n",
    "  def predict(self, X):\n",
    "    return self.m * X + self.b\n",
    "#create object and check algorithm\n",
    "gd = GDRegressor(0.001, 50)\n",
    "gd.fit(X, y)"
   ]
  },
  {
   "cell_type": "markdown",
   "id": "c7f34945",
   "metadata": {},
   "source": [
    "## Effect of Learning Rate\n",
    "Learning rate is a very crucial parameter in Gradient Descent and should be selected wisely by experimenting two to three times. If you use learning rate as a very high value then you will never converge and the slope will dance from a positive to a negative axis. The learning rate is always set as a small value to converge fast."
   ]
  },
  {
   "cell_type": "markdown",
   "id": "a1ac0185",
   "metadata": {},
   "source": [
    "### Effect of Loss Function\n",
    "One is the learning rate whose effect we have seen and the next thing which affects the Gradient descent is loss function. we have used mean squared error through this article which is a very simple and most used loss function. This loss function is convex. A convex function is a function wherein between two points if you draw a line then the line never crosses the function which is known as convex function. Gradient descent is always a convex function because in convex there would be only one minima."
   ]
  },
  {
   "cell_type": "markdown",
   "id": "f3b4518a",
   "metadata": {},
   "source": [
    "### Effect Of Data\n",
    "\n",
    "Data affects the running time of Gradient Descent. If all the features in the data are at a common scale then it converges very fast and the contour plot is exactly circular. But If the feature scale is very different then the convergence time is too high And you will get a flatter contour"
   ]
  },
  {
   "cell_type": "code",
   "execution_count": null,
   "id": "1587efb8",
   "metadata": {},
   "outputs": [],
   "source": []
  }
 ],
 "metadata": {
  "kernelspec": {
   "display_name": "Python 3",
   "language": "python",
   "name": "python3"
  },
  "language_info": {
   "codemirror_mode": {
    "name": "ipython",
    "version": 3
   },
   "file_extension": ".py",
   "mimetype": "text/x-python",
   "name": "python",
   "nbconvert_exporter": "python",
   "pygments_lexer": "ipython3",
   "version": "3.8.8"
  }
 },
 "nbformat": 4,
 "nbformat_minor": 5
}
