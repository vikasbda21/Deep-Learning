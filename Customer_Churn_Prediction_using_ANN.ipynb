{
  "nbformat": 4,
  "nbformat_minor": 0,
  "metadata": {
    "colab": {
      "name": "Customer Churn Prediction using ANN",
      "provenance": [],
      "collapsed_sections": [],
      "mount_file_id": "196lYwXBGLSpUj6dIvGGoQiD4FUQt2JW8",
      "authorship_tag": "ABX9TyM0yYycK9v3cEmC0bIL2hyp",
      "include_colab_link": true
    },
    "kernelspec": {
      "name": "python3",
      "display_name": "Python 3"
    },
    "language_info": {
      "name": "python"
    },
    "accelerator": "GPU"
  },
  "cells": [
    {
      "cell_type": "markdown",
      "metadata": {
        "id": "view-in-github",
        "colab_type": "text"
      },
      "source": [
        "<a href=\"https://colab.research.google.com/github/vikasbda21/Deep-Learning/blob/main/Customer_Churn_Prediction_using_ANN.ipynb\" target=\"_parent\"><img src=\"https://colab.research.google.com/assets/colab-badge.svg\" alt=\"Open In Colab\"/></a>"
      ]
    },
    {
      "cell_type": "markdown",
      "source": [
        "**Build Artificial Neural Network using Keras**"
      ],
      "metadata": {
        "id": "srYYD5-fCGAJ"
      }
    },
    {
      "cell_type": "code",
      "source": [
        "from google.colab import drive\n",
        "drive.mount(\"/content/drive\")"
      ],
      "metadata": {
        "id": "Hx9Z1Q8okhFe",
        "colab": {
          "base_uri": "https://localhost:8080/"
        },
        "outputId": "dfb80295-4c4e-4c43-a491-fbf9fc53890e"
      },
      "execution_count": 1,
      "outputs": [
        {
          "output_type": "stream",
          "name": "stdout",
          "text": [
            "Drive already mounted at /content/drive; to attempt to forcibly remount, call drive.mount(\"/content/drive\", force_remount=True).\n"
          ]
        }
      ]
    },
    {
      "cell_type": "code",
      "source": [
        "import tensorflow as tf"
      ],
      "metadata": {
        "id": "s1nrWxv2uU5a"
      },
      "execution_count": 2,
      "outputs": []
    },
    {
      "cell_type": "code",
      "source": [
        "print(tf.__version__)"
      ],
      "metadata": {
        "id": "1A7LII8Ck2z5",
        "colab": {
          "base_uri": "https://localhost:8080/"
        },
        "outputId": "9c4342a6-1f88-45a3-f14f-f54e8cb0714b"
      },
      "execution_count": 3,
      "outputs": [
        {
          "output_type": "stream",
          "name": "stdout",
          "text": [
            "2.8.0\n"
          ]
        }
      ]
    },
    {
      "cell_type": "code",
      "source": [
        "import numpy as np\n",
        "import pandas as pd\n",
        "import matplotlib.pyplot as plt\n",
        "%matplotlib inline\n",
        "import seaborn as sns"
      ],
      "metadata": {
        "id": "AnPpktXbaxwE"
      },
      "execution_count": 4,
      "outputs": []
    },
    {
      "cell_type": "code",
      "source": [
        "df = pd.read_csv('/content/drive/MyDrive/Churn_Modelling.csv')"
      ],
      "metadata": {
        "id": "gswhNykXa0xu"
      },
      "execution_count": 5,
      "outputs": []
    },
    {
      "cell_type": "code",
      "source": [
        "df.head()"
      ],
      "metadata": {
        "colab": {
          "base_uri": "https://localhost:8080/",
          "height": 206
        },
        "id": "RwGuR5P0a9aE",
        "outputId": "71e781c4-6457-40f3-c1c3-a4413dd701a9"
      },
      "execution_count": 6,
      "outputs": [
        {
          "output_type": "execute_result",
          "data": {
            "text/plain": [
              "   RowNumber  CustomerId   Surname  CreditScore Geography  Gender  Age  \\\n",
              "0          1    15634602  Hargrave          619    France  Female   42   \n",
              "1          2    15647311      Hill          608     Spain  Female   41   \n",
              "2          3    15619304      Onio          502    France  Female   42   \n",
              "3          4    15701354      Boni          699    France  Female   39   \n",
              "4          5    15737888  Mitchell          850     Spain  Female   43   \n",
              "\n",
              "   Tenure    Balance  NumOfProducts  HasCrCard  IsActiveMember  \\\n",
              "0       2       0.00              1          1               1   \n",
              "1       1   83807.86              1          0               1   \n",
              "2       8  159660.80              3          1               0   \n",
              "3       1       0.00              2          0               0   \n",
              "4       2  125510.82              1          1               1   \n",
              "\n",
              "   EstimatedSalary  Exited  \n",
              "0        101348.88       1  \n",
              "1        112542.58       0  \n",
              "2        113931.57       1  \n",
              "3         93826.63       0  \n",
              "4         79084.10       0  "
            ],
            "text/html": [
              "\n",
              "  <div id=\"df-92ea0b25-84bb-44a4-936c-560aa8a6c456\">\n",
              "    <div class=\"colab-df-container\">\n",
              "      <div>\n",
              "<style scoped>\n",
              "    .dataframe tbody tr th:only-of-type {\n",
              "        vertical-align: middle;\n",
              "    }\n",
              "\n",
              "    .dataframe tbody tr th {\n",
              "        vertical-align: top;\n",
              "    }\n",
              "\n",
              "    .dataframe thead th {\n",
              "        text-align: right;\n",
              "    }\n",
              "</style>\n",
              "<table border=\"1\" class=\"dataframe\">\n",
              "  <thead>\n",
              "    <tr style=\"text-align: right;\">\n",
              "      <th></th>\n",
              "      <th>RowNumber</th>\n",
              "      <th>CustomerId</th>\n",
              "      <th>Surname</th>\n",
              "      <th>CreditScore</th>\n",
              "      <th>Geography</th>\n",
              "      <th>Gender</th>\n",
              "      <th>Age</th>\n",
              "      <th>Tenure</th>\n",
              "      <th>Balance</th>\n",
              "      <th>NumOfProducts</th>\n",
              "      <th>HasCrCard</th>\n",
              "      <th>IsActiveMember</th>\n",
              "      <th>EstimatedSalary</th>\n",
              "      <th>Exited</th>\n",
              "    </tr>\n",
              "  </thead>\n",
              "  <tbody>\n",
              "    <tr>\n",
              "      <th>0</th>\n",
              "      <td>1</td>\n",
              "      <td>15634602</td>\n",
              "      <td>Hargrave</td>\n",
              "      <td>619</td>\n",
              "      <td>France</td>\n",
              "      <td>Female</td>\n",
              "      <td>42</td>\n",
              "      <td>2</td>\n",
              "      <td>0.00</td>\n",
              "      <td>1</td>\n",
              "      <td>1</td>\n",
              "      <td>1</td>\n",
              "      <td>101348.88</td>\n",
              "      <td>1</td>\n",
              "    </tr>\n",
              "    <tr>\n",
              "      <th>1</th>\n",
              "      <td>2</td>\n",
              "      <td>15647311</td>\n",
              "      <td>Hill</td>\n",
              "      <td>608</td>\n",
              "      <td>Spain</td>\n",
              "      <td>Female</td>\n",
              "      <td>41</td>\n",
              "      <td>1</td>\n",
              "      <td>83807.86</td>\n",
              "      <td>1</td>\n",
              "      <td>0</td>\n",
              "      <td>1</td>\n",
              "      <td>112542.58</td>\n",
              "      <td>0</td>\n",
              "    </tr>\n",
              "    <tr>\n",
              "      <th>2</th>\n",
              "      <td>3</td>\n",
              "      <td>15619304</td>\n",
              "      <td>Onio</td>\n",
              "      <td>502</td>\n",
              "      <td>France</td>\n",
              "      <td>Female</td>\n",
              "      <td>42</td>\n",
              "      <td>8</td>\n",
              "      <td>159660.80</td>\n",
              "      <td>3</td>\n",
              "      <td>1</td>\n",
              "      <td>0</td>\n",
              "      <td>113931.57</td>\n",
              "      <td>1</td>\n",
              "    </tr>\n",
              "    <tr>\n",
              "      <th>3</th>\n",
              "      <td>4</td>\n",
              "      <td>15701354</td>\n",
              "      <td>Boni</td>\n",
              "      <td>699</td>\n",
              "      <td>France</td>\n",
              "      <td>Female</td>\n",
              "      <td>39</td>\n",
              "      <td>1</td>\n",
              "      <td>0.00</td>\n",
              "      <td>2</td>\n",
              "      <td>0</td>\n",
              "      <td>0</td>\n",
              "      <td>93826.63</td>\n",
              "      <td>0</td>\n",
              "    </tr>\n",
              "    <tr>\n",
              "      <th>4</th>\n",
              "      <td>5</td>\n",
              "      <td>15737888</td>\n",
              "      <td>Mitchell</td>\n",
              "      <td>850</td>\n",
              "      <td>Spain</td>\n",
              "      <td>Female</td>\n",
              "      <td>43</td>\n",
              "      <td>2</td>\n",
              "      <td>125510.82</td>\n",
              "      <td>1</td>\n",
              "      <td>1</td>\n",
              "      <td>1</td>\n",
              "      <td>79084.10</td>\n",
              "      <td>0</td>\n",
              "    </tr>\n",
              "  </tbody>\n",
              "</table>\n",
              "</div>\n",
              "      <button class=\"colab-df-convert\" onclick=\"convertToInteractive('df-92ea0b25-84bb-44a4-936c-560aa8a6c456')\"\n",
              "              title=\"Convert this dataframe to an interactive table.\"\n",
              "              style=\"display:none;\">\n",
              "        \n",
              "  <svg xmlns=\"http://www.w3.org/2000/svg\" height=\"24px\"viewBox=\"0 0 24 24\"\n",
              "       width=\"24px\">\n",
              "    <path d=\"M0 0h24v24H0V0z\" fill=\"none\"/>\n",
              "    <path d=\"M18.56 5.44l.94 2.06.94-2.06 2.06-.94-2.06-.94-.94-2.06-.94 2.06-2.06.94zm-11 1L8.5 8.5l.94-2.06 2.06-.94-2.06-.94L8.5 2.5l-.94 2.06-2.06.94zm10 10l.94 2.06.94-2.06 2.06-.94-2.06-.94-.94-2.06-.94 2.06-2.06.94z\"/><path d=\"M17.41 7.96l-1.37-1.37c-.4-.4-.92-.59-1.43-.59-.52 0-1.04.2-1.43.59L10.3 9.45l-7.72 7.72c-.78.78-.78 2.05 0 2.83L4 21.41c.39.39.9.59 1.41.59.51 0 1.02-.2 1.41-.59l7.78-7.78 2.81-2.81c.8-.78.8-2.07 0-2.86zM5.41 20L4 18.59l7.72-7.72 1.47 1.35L5.41 20z\"/>\n",
              "  </svg>\n",
              "      </button>\n",
              "      \n",
              "  <style>\n",
              "    .colab-df-container {\n",
              "      display:flex;\n",
              "      flex-wrap:wrap;\n",
              "      gap: 12px;\n",
              "    }\n",
              "\n",
              "    .colab-df-convert {\n",
              "      background-color: #E8F0FE;\n",
              "      border: none;\n",
              "      border-radius: 50%;\n",
              "      cursor: pointer;\n",
              "      display: none;\n",
              "      fill: #1967D2;\n",
              "      height: 32px;\n",
              "      padding: 0 0 0 0;\n",
              "      width: 32px;\n",
              "    }\n",
              "\n",
              "    .colab-df-convert:hover {\n",
              "      background-color: #E2EBFA;\n",
              "      box-shadow: 0px 1px 2px rgba(60, 64, 67, 0.3), 0px 1px 3px 1px rgba(60, 64, 67, 0.15);\n",
              "      fill: #174EA6;\n",
              "    }\n",
              "\n",
              "    [theme=dark] .colab-df-convert {\n",
              "      background-color: #3B4455;\n",
              "      fill: #D2E3FC;\n",
              "    }\n",
              "\n",
              "    [theme=dark] .colab-df-convert:hover {\n",
              "      background-color: #434B5C;\n",
              "      box-shadow: 0px 1px 3px 1px rgba(0, 0, 0, 0.15);\n",
              "      filter: drop-shadow(0px 1px 2px rgba(0, 0, 0, 0.3));\n",
              "      fill: #FFFFFF;\n",
              "    }\n",
              "  </style>\n",
              "\n",
              "      <script>\n",
              "        const buttonEl =\n",
              "          document.querySelector('#df-92ea0b25-84bb-44a4-936c-560aa8a6c456 button.colab-df-convert');\n",
              "        buttonEl.style.display =\n",
              "          google.colab.kernel.accessAllowed ? 'block' : 'none';\n",
              "\n",
              "        async function convertToInteractive(key) {\n",
              "          const element = document.querySelector('#df-92ea0b25-84bb-44a4-936c-560aa8a6c456');\n",
              "          const dataTable =\n",
              "            await google.colab.kernel.invokeFunction('convertToInteractive',\n",
              "                                                     [key], {});\n",
              "          if (!dataTable) return;\n",
              "\n",
              "          const docLinkHtml = 'Like what you see? Visit the ' +\n",
              "            '<a target=\"_blank\" href=https://colab.research.google.com/notebooks/data_table.ipynb>data table notebook</a>'\n",
              "            + ' to learn more about interactive tables.';\n",
              "          element.innerHTML = '';\n",
              "          dataTable['output_type'] = 'display_data';\n",
              "          await google.colab.output.renderOutput(dataTable, element);\n",
              "          const docLink = document.createElement('div');\n",
              "          docLink.innerHTML = docLinkHtml;\n",
              "          element.appendChild(docLink);\n",
              "        }\n",
              "      </script>\n",
              "    </div>\n",
              "  </div>\n",
              "  "
            ]
          },
          "metadata": {},
          "execution_count": 6
        }
      ]
    },
    {
      "cell_type": "code",
      "source": [
        "df.info()"
      ],
      "metadata": {
        "colab": {
          "base_uri": "https://localhost:8080/"
        },
        "id": "2lM48dgk-0X2",
        "outputId": "4218c1c1-b8f0-4f65-925d-a01482edeb81"
      },
      "execution_count": 7,
      "outputs": [
        {
          "output_type": "stream",
          "name": "stdout",
          "text": [
            "<class 'pandas.core.frame.DataFrame'>\n",
            "RangeIndex: 10000 entries, 0 to 9999\n",
            "Data columns (total 14 columns):\n",
            " #   Column           Non-Null Count  Dtype  \n",
            "---  ------           --------------  -----  \n",
            " 0   RowNumber        10000 non-null  int64  \n",
            " 1   CustomerId       10000 non-null  int64  \n",
            " 2   Surname          10000 non-null  object \n",
            " 3   CreditScore      10000 non-null  int64  \n",
            " 4   Geography        10000 non-null  object \n",
            " 5   Gender           10000 non-null  object \n",
            " 6   Age              10000 non-null  int64  \n",
            " 7   Tenure           10000 non-null  int64  \n",
            " 8   Balance          10000 non-null  float64\n",
            " 9   NumOfProducts    10000 non-null  int64  \n",
            " 10  HasCrCard        10000 non-null  int64  \n",
            " 11  IsActiveMember   10000 non-null  int64  \n",
            " 12  EstimatedSalary  10000 non-null  float64\n",
            " 13  Exited           10000 non-null  int64  \n",
            "dtypes: float64(2), int64(9), object(3)\n",
            "memory usage: 1.1+ MB\n"
          ]
        }
      ]
    },
    {
      "cell_type": "code",
      "source": [
        "df.duplicated().sum()"
      ],
      "metadata": {
        "colab": {
          "base_uri": "https://localhost:8080/"
        },
        "id": "frFXRpQM_TY0",
        "outputId": "c3cc0697-a363-49a1-8a00-c2977eba8b63"
      },
      "execution_count": 8,
      "outputs": [
        {
          "output_type": "execute_result",
          "data": {
            "text/plain": [
              "0"
            ]
          },
          "metadata": {},
          "execution_count": 8
        }
      ]
    },
    {
      "cell_type": "code",
      "source": [
        "df['Exited'].value_counts()"
      ],
      "metadata": {
        "colab": {
          "base_uri": "https://localhost:8080/"
        },
        "id": "2Cvui1JeAdFM",
        "outputId": "d9391b5d-056c-420d-d13f-aab0835f3c15"
      },
      "execution_count": 9,
      "outputs": [
        {
          "output_type": "execute_result",
          "data": {
            "text/plain": [
              "0    7963\n",
              "1    2037\n",
              "Name: Exited, dtype: int64"
            ]
          },
          "metadata": {},
          "execution_count": 9
        }
      ]
    },
    {
      "cell_type": "markdown",
      "source": [
        ""
      ],
      "metadata": {
        "id": "KMBUqnFEAnJI"
      }
    },
    {
      "cell_type": "code",
      "source": [
        "df['Geography'].value_counts()"
      ],
      "metadata": {
        "colab": {
          "base_uri": "https://localhost:8080/"
        },
        "id": "IkwILiSZActr",
        "outputId": "7ccbce36-b87e-41f2-e796-b13a8a5b3bd5"
      },
      "execution_count": 10,
      "outputs": [
        {
          "output_type": "execute_result",
          "data": {
            "text/plain": [
              "France     5014\n",
              "Germany    2509\n",
              "Spain      2477\n",
              "Name: Geography, dtype: int64"
            ]
          },
          "metadata": {},
          "execution_count": 10
        }
      ]
    },
    {
      "cell_type": "code",
      "source": [
        "df['Gender'].value_counts()"
      ],
      "metadata": {
        "colab": {
          "base_uri": "https://localhost:8080/"
        },
        "id": "S2LQRkLQAcrk",
        "outputId": "49719794-1a4b-4ba2-f151-060171f0e204"
      },
      "execution_count": 11,
      "outputs": [
        {
          "output_type": "execute_result",
          "data": {
            "text/plain": [
              "Male      5457\n",
              "Female    4543\n",
              "Name: Gender, dtype: int64"
            ]
          },
          "metadata": {},
          "execution_count": 11
        }
      ]
    },
    {
      "cell_type": "code",
      "source": [
        "df.drop(columns=['RowNumber','CustomerId','Surname'], inplace=True)"
      ],
      "metadata": {
        "id": "YzIJeLdlAcpM"
      },
      "execution_count": 12,
      "outputs": []
    },
    {
      "cell_type": "code",
      "source": [
        "df.head()"
      ],
      "metadata": {
        "colab": {
          "base_uri": "https://localhost:8080/",
          "height": 206
        },
        "id": "oI0gima9Acmr",
        "outputId": "42bef587-d1a7-42e4-8960-58af0372d45d"
      },
      "execution_count": 13,
      "outputs": [
        {
          "output_type": "execute_result",
          "data": {
            "text/plain": [
              "   CreditScore Geography  Gender  Age  Tenure    Balance  NumOfProducts  \\\n",
              "0          619    France  Female   42       2       0.00              1   \n",
              "1          608     Spain  Female   41       1   83807.86              1   \n",
              "2          502    France  Female   42       8  159660.80              3   \n",
              "3          699    France  Female   39       1       0.00              2   \n",
              "4          850     Spain  Female   43       2  125510.82              1   \n",
              "\n",
              "   HasCrCard  IsActiveMember  EstimatedSalary  Exited  \n",
              "0          1               1        101348.88       1  \n",
              "1          0               1        112542.58       0  \n",
              "2          1               0        113931.57       1  \n",
              "3          0               0         93826.63       0  \n",
              "4          1               1         79084.10       0  "
            ],
            "text/html": [
              "\n",
              "  <div id=\"df-75a4350b-45a7-43db-a1b2-b89033605161\">\n",
              "    <div class=\"colab-df-container\">\n",
              "      <div>\n",
              "<style scoped>\n",
              "    .dataframe tbody tr th:only-of-type {\n",
              "        vertical-align: middle;\n",
              "    }\n",
              "\n",
              "    .dataframe tbody tr th {\n",
              "        vertical-align: top;\n",
              "    }\n",
              "\n",
              "    .dataframe thead th {\n",
              "        text-align: right;\n",
              "    }\n",
              "</style>\n",
              "<table border=\"1\" class=\"dataframe\">\n",
              "  <thead>\n",
              "    <tr style=\"text-align: right;\">\n",
              "      <th></th>\n",
              "      <th>CreditScore</th>\n",
              "      <th>Geography</th>\n",
              "      <th>Gender</th>\n",
              "      <th>Age</th>\n",
              "      <th>Tenure</th>\n",
              "      <th>Balance</th>\n",
              "      <th>NumOfProducts</th>\n",
              "      <th>HasCrCard</th>\n",
              "      <th>IsActiveMember</th>\n",
              "      <th>EstimatedSalary</th>\n",
              "      <th>Exited</th>\n",
              "    </tr>\n",
              "  </thead>\n",
              "  <tbody>\n",
              "    <tr>\n",
              "      <th>0</th>\n",
              "      <td>619</td>\n",
              "      <td>France</td>\n",
              "      <td>Female</td>\n",
              "      <td>42</td>\n",
              "      <td>2</td>\n",
              "      <td>0.00</td>\n",
              "      <td>1</td>\n",
              "      <td>1</td>\n",
              "      <td>1</td>\n",
              "      <td>101348.88</td>\n",
              "      <td>1</td>\n",
              "    </tr>\n",
              "    <tr>\n",
              "      <th>1</th>\n",
              "      <td>608</td>\n",
              "      <td>Spain</td>\n",
              "      <td>Female</td>\n",
              "      <td>41</td>\n",
              "      <td>1</td>\n",
              "      <td>83807.86</td>\n",
              "      <td>1</td>\n",
              "      <td>0</td>\n",
              "      <td>1</td>\n",
              "      <td>112542.58</td>\n",
              "      <td>0</td>\n",
              "    </tr>\n",
              "    <tr>\n",
              "      <th>2</th>\n",
              "      <td>502</td>\n",
              "      <td>France</td>\n",
              "      <td>Female</td>\n",
              "      <td>42</td>\n",
              "      <td>8</td>\n",
              "      <td>159660.80</td>\n",
              "      <td>3</td>\n",
              "      <td>1</td>\n",
              "      <td>0</td>\n",
              "      <td>113931.57</td>\n",
              "      <td>1</td>\n",
              "    </tr>\n",
              "    <tr>\n",
              "      <th>3</th>\n",
              "      <td>699</td>\n",
              "      <td>France</td>\n",
              "      <td>Female</td>\n",
              "      <td>39</td>\n",
              "      <td>1</td>\n",
              "      <td>0.00</td>\n",
              "      <td>2</td>\n",
              "      <td>0</td>\n",
              "      <td>0</td>\n",
              "      <td>93826.63</td>\n",
              "      <td>0</td>\n",
              "    </tr>\n",
              "    <tr>\n",
              "      <th>4</th>\n",
              "      <td>850</td>\n",
              "      <td>Spain</td>\n",
              "      <td>Female</td>\n",
              "      <td>43</td>\n",
              "      <td>2</td>\n",
              "      <td>125510.82</td>\n",
              "      <td>1</td>\n",
              "      <td>1</td>\n",
              "      <td>1</td>\n",
              "      <td>79084.10</td>\n",
              "      <td>0</td>\n",
              "    </tr>\n",
              "  </tbody>\n",
              "</table>\n",
              "</div>\n",
              "      <button class=\"colab-df-convert\" onclick=\"convertToInteractive('df-75a4350b-45a7-43db-a1b2-b89033605161')\"\n",
              "              title=\"Convert this dataframe to an interactive table.\"\n",
              "              style=\"display:none;\">\n",
              "        \n",
              "  <svg xmlns=\"http://www.w3.org/2000/svg\" height=\"24px\"viewBox=\"0 0 24 24\"\n",
              "       width=\"24px\">\n",
              "    <path d=\"M0 0h24v24H0V0z\" fill=\"none\"/>\n",
              "    <path d=\"M18.56 5.44l.94 2.06.94-2.06 2.06-.94-2.06-.94-.94-2.06-.94 2.06-2.06.94zm-11 1L8.5 8.5l.94-2.06 2.06-.94-2.06-.94L8.5 2.5l-.94 2.06-2.06.94zm10 10l.94 2.06.94-2.06 2.06-.94-2.06-.94-.94-2.06-.94 2.06-2.06.94z\"/><path d=\"M17.41 7.96l-1.37-1.37c-.4-.4-.92-.59-1.43-.59-.52 0-1.04.2-1.43.59L10.3 9.45l-7.72 7.72c-.78.78-.78 2.05 0 2.83L4 21.41c.39.39.9.59 1.41.59.51 0 1.02-.2 1.41-.59l7.78-7.78 2.81-2.81c.8-.78.8-2.07 0-2.86zM5.41 20L4 18.59l7.72-7.72 1.47 1.35L5.41 20z\"/>\n",
              "  </svg>\n",
              "      </button>\n",
              "      \n",
              "  <style>\n",
              "    .colab-df-container {\n",
              "      display:flex;\n",
              "      flex-wrap:wrap;\n",
              "      gap: 12px;\n",
              "    }\n",
              "\n",
              "    .colab-df-convert {\n",
              "      background-color: #E8F0FE;\n",
              "      border: none;\n",
              "      border-radius: 50%;\n",
              "      cursor: pointer;\n",
              "      display: none;\n",
              "      fill: #1967D2;\n",
              "      height: 32px;\n",
              "      padding: 0 0 0 0;\n",
              "      width: 32px;\n",
              "    }\n",
              "\n",
              "    .colab-df-convert:hover {\n",
              "      background-color: #E2EBFA;\n",
              "      box-shadow: 0px 1px 2px rgba(60, 64, 67, 0.3), 0px 1px 3px 1px rgba(60, 64, 67, 0.15);\n",
              "      fill: #174EA6;\n",
              "    }\n",
              "\n",
              "    [theme=dark] .colab-df-convert {\n",
              "      background-color: #3B4455;\n",
              "      fill: #D2E3FC;\n",
              "    }\n",
              "\n",
              "    [theme=dark] .colab-df-convert:hover {\n",
              "      background-color: #434B5C;\n",
              "      box-shadow: 0px 1px 3px 1px rgba(0, 0, 0, 0.15);\n",
              "      filter: drop-shadow(0px 1px 2px rgba(0, 0, 0, 0.3));\n",
              "      fill: #FFFFFF;\n",
              "    }\n",
              "  </style>\n",
              "\n",
              "      <script>\n",
              "        const buttonEl =\n",
              "          document.querySelector('#df-75a4350b-45a7-43db-a1b2-b89033605161 button.colab-df-convert');\n",
              "        buttonEl.style.display =\n",
              "          google.colab.kernel.accessAllowed ? 'block' : 'none';\n",
              "\n",
              "        async function convertToInteractive(key) {\n",
              "          const element = document.querySelector('#df-75a4350b-45a7-43db-a1b2-b89033605161');\n",
              "          const dataTable =\n",
              "            await google.colab.kernel.invokeFunction('convertToInteractive',\n",
              "                                                     [key], {});\n",
              "          if (!dataTable) return;\n",
              "\n",
              "          const docLinkHtml = 'Like what you see? Visit the ' +\n",
              "            '<a target=\"_blank\" href=https://colab.research.google.com/notebooks/data_table.ipynb>data table notebook</a>'\n",
              "            + ' to learn more about interactive tables.';\n",
              "          element.innerHTML = '';\n",
              "          dataTable['output_type'] = 'display_data';\n",
              "          await google.colab.output.renderOutput(dataTable, element);\n",
              "          const docLink = document.createElement('div');\n",
              "          docLink.innerHTML = docLinkHtml;\n",
              "          element.appendChild(docLink);\n",
              "        }\n",
              "      </script>\n",
              "    </div>\n",
              "  </div>\n",
              "  "
            ]
          },
          "metadata": {},
          "execution_count": 13
        }
      ]
    },
    {
      "cell_type": "code",
      "source": [
        "df=pd.get_dummies(df,columns=['Geography','Gender'], drop_first=True)"
      ],
      "metadata": {
        "id": "i4Y5FoNSAcg8"
      },
      "execution_count": 14,
      "outputs": []
    },
    {
      "cell_type": "code",
      "source": [
        "df.head()"
      ],
      "metadata": {
        "colab": {
          "base_uri": "https://localhost:8080/",
          "height": 206
        },
        "id": "AFOhPVH8D0zk",
        "outputId": "7cefad15-c444-4d9c-b00a-2a85fc0fa2c9"
      },
      "execution_count": 15,
      "outputs": [
        {
          "output_type": "execute_result",
          "data": {
            "text/plain": [
              "   CreditScore  Age  Tenure    Balance  NumOfProducts  HasCrCard  \\\n",
              "0          619   42       2       0.00              1          1   \n",
              "1          608   41       1   83807.86              1          0   \n",
              "2          502   42       8  159660.80              3          1   \n",
              "3          699   39       1       0.00              2          0   \n",
              "4          850   43       2  125510.82              1          1   \n",
              "\n",
              "   IsActiveMember  EstimatedSalary  Exited  Geography_Germany  \\\n",
              "0               1        101348.88       1                  0   \n",
              "1               1        112542.58       0                  0   \n",
              "2               0        113931.57       1                  0   \n",
              "3               0         93826.63       0                  0   \n",
              "4               1         79084.10       0                  0   \n",
              "\n",
              "   Geography_Spain  Gender_Male  \n",
              "0                0            0  \n",
              "1                1            0  \n",
              "2                0            0  \n",
              "3                0            0  \n",
              "4                1            0  "
            ],
            "text/html": [
              "\n",
              "  <div id=\"df-f3dd7eec-fb97-4f09-a047-7dc0dc1c0874\">\n",
              "    <div class=\"colab-df-container\">\n",
              "      <div>\n",
              "<style scoped>\n",
              "    .dataframe tbody tr th:only-of-type {\n",
              "        vertical-align: middle;\n",
              "    }\n",
              "\n",
              "    .dataframe tbody tr th {\n",
              "        vertical-align: top;\n",
              "    }\n",
              "\n",
              "    .dataframe thead th {\n",
              "        text-align: right;\n",
              "    }\n",
              "</style>\n",
              "<table border=\"1\" class=\"dataframe\">\n",
              "  <thead>\n",
              "    <tr style=\"text-align: right;\">\n",
              "      <th></th>\n",
              "      <th>CreditScore</th>\n",
              "      <th>Age</th>\n",
              "      <th>Tenure</th>\n",
              "      <th>Balance</th>\n",
              "      <th>NumOfProducts</th>\n",
              "      <th>HasCrCard</th>\n",
              "      <th>IsActiveMember</th>\n",
              "      <th>EstimatedSalary</th>\n",
              "      <th>Exited</th>\n",
              "      <th>Geography_Germany</th>\n",
              "      <th>Geography_Spain</th>\n",
              "      <th>Gender_Male</th>\n",
              "    </tr>\n",
              "  </thead>\n",
              "  <tbody>\n",
              "    <tr>\n",
              "      <th>0</th>\n",
              "      <td>619</td>\n",
              "      <td>42</td>\n",
              "      <td>2</td>\n",
              "      <td>0.00</td>\n",
              "      <td>1</td>\n",
              "      <td>1</td>\n",
              "      <td>1</td>\n",
              "      <td>101348.88</td>\n",
              "      <td>1</td>\n",
              "      <td>0</td>\n",
              "      <td>0</td>\n",
              "      <td>0</td>\n",
              "    </tr>\n",
              "    <tr>\n",
              "      <th>1</th>\n",
              "      <td>608</td>\n",
              "      <td>41</td>\n",
              "      <td>1</td>\n",
              "      <td>83807.86</td>\n",
              "      <td>1</td>\n",
              "      <td>0</td>\n",
              "      <td>1</td>\n",
              "      <td>112542.58</td>\n",
              "      <td>0</td>\n",
              "      <td>0</td>\n",
              "      <td>1</td>\n",
              "      <td>0</td>\n",
              "    </tr>\n",
              "    <tr>\n",
              "      <th>2</th>\n",
              "      <td>502</td>\n",
              "      <td>42</td>\n",
              "      <td>8</td>\n",
              "      <td>159660.80</td>\n",
              "      <td>3</td>\n",
              "      <td>1</td>\n",
              "      <td>0</td>\n",
              "      <td>113931.57</td>\n",
              "      <td>1</td>\n",
              "      <td>0</td>\n",
              "      <td>0</td>\n",
              "      <td>0</td>\n",
              "    </tr>\n",
              "    <tr>\n",
              "      <th>3</th>\n",
              "      <td>699</td>\n",
              "      <td>39</td>\n",
              "      <td>1</td>\n",
              "      <td>0.00</td>\n",
              "      <td>2</td>\n",
              "      <td>0</td>\n",
              "      <td>0</td>\n",
              "      <td>93826.63</td>\n",
              "      <td>0</td>\n",
              "      <td>0</td>\n",
              "      <td>0</td>\n",
              "      <td>0</td>\n",
              "    </tr>\n",
              "    <tr>\n",
              "      <th>4</th>\n",
              "      <td>850</td>\n",
              "      <td>43</td>\n",
              "      <td>2</td>\n",
              "      <td>125510.82</td>\n",
              "      <td>1</td>\n",
              "      <td>1</td>\n",
              "      <td>1</td>\n",
              "      <td>79084.10</td>\n",
              "      <td>0</td>\n",
              "      <td>0</td>\n",
              "      <td>1</td>\n",
              "      <td>0</td>\n",
              "    </tr>\n",
              "  </tbody>\n",
              "</table>\n",
              "</div>\n",
              "      <button class=\"colab-df-convert\" onclick=\"convertToInteractive('df-f3dd7eec-fb97-4f09-a047-7dc0dc1c0874')\"\n",
              "              title=\"Convert this dataframe to an interactive table.\"\n",
              "              style=\"display:none;\">\n",
              "        \n",
              "  <svg xmlns=\"http://www.w3.org/2000/svg\" height=\"24px\"viewBox=\"0 0 24 24\"\n",
              "       width=\"24px\">\n",
              "    <path d=\"M0 0h24v24H0V0z\" fill=\"none\"/>\n",
              "    <path d=\"M18.56 5.44l.94 2.06.94-2.06 2.06-.94-2.06-.94-.94-2.06-.94 2.06-2.06.94zm-11 1L8.5 8.5l.94-2.06 2.06-.94-2.06-.94L8.5 2.5l-.94 2.06-2.06.94zm10 10l.94 2.06.94-2.06 2.06-.94-2.06-.94-.94-2.06-.94 2.06-2.06.94z\"/><path d=\"M17.41 7.96l-1.37-1.37c-.4-.4-.92-.59-1.43-.59-.52 0-1.04.2-1.43.59L10.3 9.45l-7.72 7.72c-.78.78-.78 2.05 0 2.83L4 21.41c.39.39.9.59 1.41.59.51 0 1.02-.2 1.41-.59l7.78-7.78 2.81-2.81c.8-.78.8-2.07 0-2.86zM5.41 20L4 18.59l7.72-7.72 1.47 1.35L5.41 20z\"/>\n",
              "  </svg>\n",
              "      </button>\n",
              "      \n",
              "  <style>\n",
              "    .colab-df-container {\n",
              "      display:flex;\n",
              "      flex-wrap:wrap;\n",
              "      gap: 12px;\n",
              "    }\n",
              "\n",
              "    .colab-df-convert {\n",
              "      background-color: #E8F0FE;\n",
              "      border: none;\n",
              "      border-radius: 50%;\n",
              "      cursor: pointer;\n",
              "      display: none;\n",
              "      fill: #1967D2;\n",
              "      height: 32px;\n",
              "      padding: 0 0 0 0;\n",
              "      width: 32px;\n",
              "    }\n",
              "\n",
              "    .colab-df-convert:hover {\n",
              "      background-color: #E2EBFA;\n",
              "      box-shadow: 0px 1px 2px rgba(60, 64, 67, 0.3), 0px 1px 3px 1px rgba(60, 64, 67, 0.15);\n",
              "      fill: #174EA6;\n",
              "    }\n",
              "\n",
              "    [theme=dark] .colab-df-convert {\n",
              "      background-color: #3B4455;\n",
              "      fill: #D2E3FC;\n",
              "    }\n",
              "\n",
              "    [theme=dark] .colab-df-convert:hover {\n",
              "      background-color: #434B5C;\n",
              "      box-shadow: 0px 1px 3px 1px rgba(0, 0, 0, 0.15);\n",
              "      filter: drop-shadow(0px 1px 2px rgba(0, 0, 0, 0.3));\n",
              "      fill: #FFFFFF;\n",
              "    }\n",
              "  </style>\n",
              "\n",
              "      <script>\n",
              "        const buttonEl =\n",
              "          document.querySelector('#df-f3dd7eec-fb97-4f09-a047-7dc0dc1c0874 button.colab-df-convert');\n",
              "        buttonEl.style.display =\n",
              "          google.colab.kernel.accessAllowed ? 'block' : 'none';\n",
              "\n",
              "        async function convertToInteractive(key) {\n",
              "          const element = document.querySelector('#df-f3dd7eec-fb97-4f09-a047-7dc0dc1c0874');\n",
              "          const dataTable =\n",
              "            await google.colab.kernel.invokeFunction('convertToInteractive',\n",
              "                                                     [key], {});\n",
              "          if (!dataTable) return;\n",
              "\n",
              "          const docLinkHtml = 'Like what you see? Visit the ' +\n",
              "            '<a target=\"_blank\" href=https://colab.research.google.com/notebooks/data_table.ipynb>data table notebook</a>'\n",
              "            + ' to learn more about interactive tables.';\n",
              "          element.innerHTML = '';\n",
              "          dataTable['output_type'] = 'display_data';\n",
              "          await google.colab.output.renderOutput(dataTable, element);\n",
              "          const docLink = document.createElement('div');\n",
              "          docLink.innerHTML = docLinkHtml;\n",
              "          element.appendChild(docLink);\n",
              "        }\n",
              "      </script>\n",
              "    </div>\n",
              "  </div>\n",
              "  "
            ]
          },
          "metadata": {},
          "execution_count": 15
        }
      ]
    },
    {
      "cell_type": "code",
      "source": [
        "# Independent & Dependent \n",
        "X= df.drop(columns=['Exited'])\n",
        "y=df['Exited']\n",
        "X.shape"
      ],
      "metadata": {
        "colab": {
          "base_uri": "https://localhost:8080/"
        },
        "id": "cosvEZyoEuxd",
        "outputId": "988656b5-c893-4c1c-cd24-c85e1b8fc6b9"
      },
      "execution_count": 16,
      "outputs": [
        {
          "output_type": "execute_result",
          "data": {
            "text/plain": [
              "(10000, 11)"
            ]
          },
          "metadata": {},
          "execution_count": 16
        }
      ]
    },
    {
      "cell_type": "code",
      "source": [
        "from sklearn.model_selection import train_test_split\n",
        "X_train, X_test, y_train, y_test = train_test_split(X, y, test_size=0.2,random_state=1)"
      ],
      "metadata": {
        "id": "SrTP_hD7a_mK"
      },
      "execution_count": 17,
      "outputs": []
    },
    {
      "cell_type": "code",
      "source": [
        "X_train.shape"
      ],
      "metadata": {
        "colab": {
          "base_uri": "https://localhost:8080/"
        },
        "id": "FHaf_sdoR7D2",
        "outputId": "c5d33e6c-b75b-4135-ae4b-e97d11bf0f7d"
      },
      "execution_count": 18,
      "outputs": [
        {
          "output_type": "execute_result",
          "data": {
            "text/plain": [
              "(8000, 11)"
            ]
          },
          "metadata": {},
          "execution_count": 18
        }
      ]
    },
    {
      "cell_type": "code",
      "source": [
        "from sklearn.preprocessing import StandardScaler\n",
        "scaler=StandardScaler()\n",
        "\n",
        "X_train_scaled=scaler.fit_transform(X_train)\n",
        "X_test_scaled= scaler.transform(X_test)"
      ],
      "metadata": {
        "id": "KDG4S7KTbtlE"
      },
      "execution_count": 19,
      "outputs": []
    },
    {
      "cell_type": "code",
      "source": [
        "X_test_scaled"
      ],
      "metadata": {
        "id": "YeV1vhobQ-7p",
        "colab": {
          "base_uri": "https://localhost:8080/"
        },
        "outputId": "7fd84550-c16e-42e6-ca0f-66aa13264308"
      },
      "execution_count": 20,
      "outputs": [
        {
          "output_type": "execute_result",
          "data": {
            "text/plain": [
              "array([[-1.03768121,  0.77498705, -1.0482813 , ..., -0.58312392,\n",
              "        -0.57273139,  0.91509065],\n",
              "       [ 0.30708683, -0.46686456, -0.70174202, ..., -0.58312392,\n",
              "        -0.57273139,  0.91509065],\n",
              "       [-1.23422423,  0.29735181, -1.0482813 , ..., -0.58312392,\n",
              "        -0.57273139, -1.09278791],\n",
              "       ...,\n",
              "       [-0.86182692, -0.46686456,  1.72403288, ..., -0.58312392,\n",
              "         1.74601919,  0.91509065],\n",
              "       [-0.30323097, -0.84897275, -1.0482813 , ...,  1.71490137,\n",
              "        -0.57273139, -1.09278791],\n",
              "       [ 0.04847759,  1.25262228,  1.3774936 , ...,  1.71490137,\n",
              "        -0.57273139,  0.91509065]])"
            ]
          },
          "metadata": {},
          "execution_count": 20
        }
      ]
    },
    {
      "cell_type": "code",
      "source": [
        "import tensorflow\n",
        "from tensorflow import keras\n",
        "from tensorflow.keras import Sequential\n",
        "from tensorflow.keras.layers import Dense"
      ],
      "metadata": {
        "id": "-JuZgAdqRunG"
      },
      "execution_count": 21,
      "outputs": []
    },
    {
      "cell_type": "code",
      "source": [
        "model = Sequential()\n",
        "\n",
        "model.add(Dense(11,activation='relu', input_dim=11))\n",
        "model.add(Dense(11,activation='relu',))\n",
        "model.add(Dense(1, activation='sigmoid'))\n",
        "model.summary()"
      ],
      "metadata": {
        "colab": {
          "base_uri": "https://localhost:8080/"
        },
        "id": "WDxBimA7G6GN",
        "outputId": "2993aa69-ade8-4727-d674-2e5c69e2d2f6"
      },
      "execution_count": 22,
      "outputs": [
        {
          "output_type": "stream",
          "name": "stdout",
          "text": [
            "Model: \"sequential\"\n",
            "_________________________________________________________________\n",
            " Layer (type)                Output Shape              Param #   \n",
            "=================================================================\n",
            " dense (Dense)               (None, 11)                132       \n",
            "                                                                 \n",
            " dense_1 (Dense)             (None, 11)                132       \n",
            "                                                                 \n",
            " dense_2 (Dense)             (None, 1)                 12        \n",
            "                                                                 \n",
            "=================================================================\n",
            "Total params: 276\n",
            "Trainable params: 276\n",
            "Non-trainable params: 0\n",
            "_________________________________________________________________\n"
          ]
        }
      ]
    },
    {
      "cell_type": "code",
      "source": [
        "from sklearn import metrics\n",
        "model.compile(loss='binary_crossentropy', optimizer='Adam', metrics=['accuracy'])"
      ],
      "metadata": {
        "id": "n6O85ZBbIHYS"
      },
      "execution_count": 23,
      "outputs": []
    },
    {
      "cell_type": "code",
      "source": [
        "history = model.fit(X_train_scaled,y_train,epochs=100, validation_split=0.2)"
      ],
      "metadata": {
        "colab": {
          "base_uri": "https://localhost:8080/"
        },
        "id": "XCWO4ZOAI1Wv",
        "outputId": "968b3355-8f89-4b93-ee67-e545b64f089f"
      },
      "execution_count": 24,
      "outputs": [
        {
          "output_type": "stream",
          "name": "stdout",
          "text": [
            "Epoch 1/100\n",
            "200/200 [==============================] - 5s 5ms/step - loss: 0.5484 - accuracy: 0.7455 - val_loss: 0.4700 - val_accuracy: 0.7981\n",
            "Epoch 2/100\n",
            "200/200 [==============================] - 1s 4ms/step - loss: 0.4536 - accuracy: 0.8059 - val_loss: 0.4387 - val_accuracy: 0.8150\n",
            "Epoch 3/100\n",
            "200/200 [==============================] - 1s 4ms/step - loss: 0.4342 - accuracy: 0.8161 - val_loss: 0.4295 - val_accuracy: 0.8181\n",
            "Epoch 4/100\n",
            "200/200 [==============================] - 1s 3ms/step - loss: 0.4257 - accuracy: 0.8220 - val_loss: 0.4239 - val_accuracy: 0.8188\n",
            "Epoch 5/100\n",
            "200/200 [==============================] - 1s 4ms/step - loss: 0.4199 - accuracy: 0.8242 - val_loss: 0.4193 - val_accuracy: 0.8206\n",
            "Epoch 6/100\n",
            "200/200 [==============================] - 1s 4ms/step - loss: 0.4151 - accuracy: 0.8275 - val_loss: 0.4161 - val_accuracy: 0.8244\n",
            "Epoch 7/100\n",
            "200/200 [==============================] - 1s 4ms/step - loss: 0.4116 - accuracy: 0.8275 - val_loss: 0.4138 - val_accuracy: 0.8244\n",
            "Epoch 8/100\n",
            "200/200 [==============================] - 1s 4ms/step - loss: 0.4077 - accuracy: 0.8303 - val_loss: 0.4102 - val_accuracy: 0.8294\n",
            "Epoch 9/100\n",
            "200/200 [==============================] - 1s 4ms/step - loss: 0.4042 - accuracy: 0.8319 - val_loss: 0.4089 - val_accuracy: 0.8281\n",
            "Epoch 10/100\n",
            "200/200 [==============================] - 1s 4ms/step - loss: 0.4021 - accuracy: 0.8327 - val_loss: 0.4039 - val_accuracy: 0.8275\n",
            "Epoch 11/100\n",
            "200/200 [==============================] - 1s 4ms/step - loss: 0.3983 - accuracy: 0.8339 - val_loss: 0.4046 - val_accuracy: 0.8250\n",
            "Epoch 12/100\n",
            "200/200 [==============================] - 1s 4ms/step - loss: 0.3956 - accuracy: 0.8356 - val_loss: 0.3993 - val_accuracy: 0.8269\n",
            "Epoch 13/100\n",
            "200/200 [==============================] - 1s 4ms/step - loss: 0.3926 - accuracy: 0.8370 - val_loss: 0.3967 - val_accuracy: 0.8281\n",
            "Epoch 14/100\n",
            "200/200 [==============================] - 1s 4ms/step - loss: 0.3893 - accuracy: 0.8367 - val_loss: 0.3945 - val_accuracy: 0.8281\n",
            "Epoch 15/100\n",
            "200/200 [==============================] - 1s 4ms/step - loss: 0.3856 - accuracy: 0.8391 - val_loss: 0.3901 - val_accuracy: 0.8300\n",
            "Epoch 16/100\n",
            "200/200 [==============================] - 1s 3ms/step - loss: 0.3815 - accuracy: 0.8417 - val_loss: 0.3864 - val_accuracy: 0.8313\n",
            "Epoch 17/100\n",
            "200/200 [==============================] - 1s 4ms/step - loss: 0.3773 - accuracy: 0.8455 - val_loss: 0.3822 - val_accuracy: 0.8331\n",
            "Epoch 18/100\n",
            "200/200 [==============================] - 1s 3ms/step - loss: 0.3726 - accuracy: 0.8475 - val_loss: 0.3788 - val_accuracy: 0.8288\n",
            "Epoch 19/100\n",
            "200/200 [==============================] - 1s 4ms/step - loss: 0.3680 - accuracy: 0.8492 - val_loss: 0.3717 - val_accuracy: 0.8375\n",
            "Epoch 20/100\n",
            "200/200 [==============================] - 1s 4ms/step - loss: 0.3631 - accuracy: 0.8527 - val_loss: 0.3702 - val_accuracy: 0.8363\n",
            "Epoch 21/100\n",
            "200/200 [==============================] - 1s 3ms/step - loss: 0.3588 - accuracy: 0.8541 - val_loss: 0.3663 - val_accuracy: 0.8419\n",
            "Epoch 22/100\n",
            "200/200 [==============================] - 1s 4ms/step - loss: 0.3555 - accuracy: 0.8541 - val_loss: 0.3626 - val_accuracy: 0.8425\n",
            "Epoch 23/100\n",
            "200/200 [==============================] - 1s 4ms/step - loss: 0.3520 - accuracy: 0.8552 - val_loss: 0.3618 - val_accuracy: 0.8419\n",
            "Epoch 24/100\n",
            "200/200 [==============================] - 1s 4ms/step - loss: 0.3491 - accuracy: 0.8592 - val_loss: 0.3608 - val_accuracy: 0.8425\n",
            "Epoch 25/100\n",
            "200/200 [==============================] - 1s 3ms/step - loss: 0.3471 - accuracy: 0.8583 - val_loss: 0.3566 - val_accuracy: 0.8462\n",
            "Epoch 26/100\n",
            "200/200 [==============================] - 1s 4ms/step - loss: 0.3455 - accuracy: 0.8600 - val_loss: 0.3555 - val_accuracy: 0.8444\n",
            "Epoch 27/100\n",
            "200/200 [==============================] - 1s 3ms/step - loss: 0.3436 - accuracy: 0.8611 - val_loss: 0.3575 - val_accuracy: 0.8438\n",
            "Epoch 28/100\n",
            "200/200 [==============================] - 1s 4ms/step - loss: 0.3423 - accuracy: 0.8598 - val_loss: 0.3563 - val_accuracy: 0.8462\n",
            "Epoch 29/100\n",
            "200/200 [==============================] - 1s 4ms/step - loss: 0.3413 - accuracy: 0.8620 - val_loss: 0.3553 - val_accuracy: 0.8438\n",
            "Epoch 30/100\n",
            "200/200 [==============================] - 1s 4ms/step - loss: 0.3400 - accuracy: 0.8611 - val_loss: 0.3543 - val_accuracy: 0.8450\n",
            "Epoch 31/100\n",
            "200/200 [==============================] - 1s 4ms/step - loss: 0.3390 - accuracy: 0.8609 - val_loss: 0.3533 - val_accuracy: 0.8469\n",
            "Epoch 32/100\n",
            "200/200 [==============================] - 1s 4ms/step - loss: 0.3381 - accuracy: 0.8622 - val_loss: 0.3507 - val_accuracy: 0.8487\n",
            "Epoch 33/100\n",
            "200/200 [==============================] - 1s 3ms/step - loss: 0.3381 - accuracy: 0.8630 - val_loss: 0.3497 - val_accuracy: 0.8462\n",
            "Epoch 34/100\n",
            "200/200 [==============================] - 1s 4ms/step - loss: 0.3371 - accuracy: 0.8648 - val_loss: 0.3511 - val_accuracy: 0.8419\n",
            "Epoch 35/100\n",
            "200/200 [==============================] - 1s 4ms/step - loss: 0.3363 - accuracy: 0.8636 - val_loss: 0.3513 - val_accuracy: 0.8444\n",
            "Epoch 36/100\n",
            "200/200 [==============================] - 1s 3ms/step - loss: 0.3357 - accuracy: 0.8623 - val_loss: 0.3499 - val_accuracy: 0.8462\n",
            "Epoch 37/100\n",
            "200/200 [==============================] - 1s 4ms/step - loss: 0.3350 - accuracy: 0.8636 - val_loss: 0.3523 - val_accuracy: 0.8438\n",
            "Epoch 38/100\n",
            "200/200 [==============================] - 1s 3ms/step - loss: 0.3352 - accuracy: 0.8639 - val_loss: 0.3498 - val_accuracy: 0.8413\n",
            "Epoch 39/100\n",
            "200/200 [==============================] - 1s 4ms/step - loss: 0.3354 - accuracy: 0.8637 - val_loss: 0.3506 - val_accuracy: 0.8419\n",
            "Epoch 40/100\n",
            "200/200 [==============================] - 1s 3ms/step - loss: 0.3343 - accuracy: 0.8625 - val_loss: 0.3497 - val_accuracy: 0.8438\n",
            "Epoch 41/100\n",
            "200/200 [==============================] - 1s 3ms/step - loss: 0.3335 - accuracy: 0.8619 - val_loss: 0.3489 - val_accuracy: 0.8444\n",
            "Epoch 42/100\n",
            "200/200 [==============================] - 1s 4ms/step - loss: 0.3332 - accuracy: 0.8659 - val_loss: 0.3503 - val_accuracy: 0.8419\n",
            "Epoch 43/100\n",
            "200/200 [==============================] - 1s 4ms/step - loss: 0.3326 - accuracy: 0.8633 - val_loss: 0.3500 - val_accuracy: 0.8450\n",
            "Epoch 44/100\n",
            "200/200 [==============================] - 1s 3ms/step - loss: 0.3329 - accuracy: 0.8641 - val_loss: 0.3488 - val_accuracy: 0.8431\n",
            "Epoch 45/100\n",
            "200/200 [==============================] - 1s 4ms/step - loss: 0.3322 - accuracy: 0.8636 - val_loss: 0.3508 - val_accuracy: 0.8450\n",
            "Epoch 46/100\n",
            "200/200 [==============================] - 1s 4ms/step - loss: 0.3318 - accuracy: 0.8623 - val_loss: 0.3479 - val_accuracy: 0.8469\n",
            "Epoch 47/100\n",
            "200/200 [==============================] - 1s 4ms/step - loss: 0.3324 - accuracy: 0.8634 - val_loss: 0.3504 - val_accuracy: 0.8462\n",
            "Epoch 48/100\n",
            "200/200 [==============================] - 1s 4ms/step - loss: 0.3319 - accuracy: 0.8644 - val_loss: 0.3471 - val_accuracy: 0.8462\n",
            "Epoch 49/100\n",
            "200/200 [==============================] - 1s 4ms/step - loss: 0.3309 - accuracy: 0.8652 - val_loss: 0.3509 - val_accuracy: 0.8438\n",
            "Epoch 50/100\n",
            "200/200 [==============================] - 1s 3ms/step - loss: 0.3310 - accuracy: 0.8650 - val_loss: 0.3462 - val_accuracy: 0.8475\n",
            "Epoch 51/100\n",
            "200/200 [==============================] - 1s 3ms/step - loss: 0.3308 - accuracy: 0.8652 - val_loss: 0.3482 - val_accuracy: 0.8456\n",
            "Epoch 52/100\n",
            "200/200 [==============================] - 1s 4ms/step - loss: 0.3305 - accuracy: 0.8650 - val_loss: 0.3474 - val_accuracy: 0.8450\n",
            "Epoch 53/100\n",
            "200/200 [==============================] - 1s 4ms/step - loss: 0.3303 - accuracy: 0.8630 - val_loss: 0.3485 - val_accuracy: 0.8444\n",
            "Epoch 54/100\n",
            "200/200 [==============================] - 1s 6ms/step - loss: 0.3301 - accuracy: 0.8645 - val_loss: 0.3489 - val_accuracy: 0.8438\n",
            "Epoch 55/100\n",
            "200/200 [==============================] - 1s 6ms/step - loss: 0.3298 - accuracy: 0.8644 - val_loss: 0.3474 - val_accuracy: 0.8431\n",
            "Epoch 56/100\n",
            "200/200 [==============================] - 1s 6ms/step - loss: 0.3300 - accuracy: 0.8634 - val_loss: 0.3466 - val_accuracy: 0.8438\n",
            "Epoch 57/100\n",
            "200/200 [==============================] - 1s 4ms/step - loss: 0.3291 - accuracy: 0.8637 - val_loss: 0.3460 - val_accuracy: 0.8456\n",
            "Epoch 58/100\n",
            "200/200 [==============================] - 1s 4ms/step - loss: 0.3289 - accuracy: 0.8641 - val_loss: 0.3485 - val_accuracy: 0.8450\n",
            "Epoch 59/100\n",
            "200/200 [==============================] - 1s 4ms/step - loss: 0.3288 - accuracy: 0.8639 - val_loss: 0.3479 - val_accuracy: 0.8450\n",
            "Epoch 60/100\n",
            "200/200 [==============================] - 1s 4ms/step - loss: 0.3291 - accuracy: 0.8653 - val_loss: 0.3467 - val_accuracy: 0.8438\n",
            "Epoch 61/100\n",
            "200/200 [==============================] - 1s 4ms/step - loss: 0.3287 - accuracy: 0.8652 - val_loss: 0.3462 - val_accuracy: 0.8462\n",
            "Epoch 62/100\n",
            "200/200 [==============================] - 1s 3ms/step - loss: 0.3280 - accuracy: 0.8645 - val_loss: 0.3504 - val_accuracy: 0.8444\n",
            "Epoch 63/100\n",
            "200/200 [==============================] - 1s 4ms/step - loss: 0.3281 - accuracy: 0.8634 - val_loss: 0.3479 - val_accuracy: 0.8450\n",
            "Epoch 64/100\n",
            "200/200 [==============================] - 1s 4ms/step - loss: 0.3289 - accuracy: 0.8645 - val_loss: 0.3452 - val_accuracy: 0.8450\n",
            "Epoch 65/100\n",
            "200/200 [==============================] - 1s 4ms/step - loss: 0.3280 - accuracy: 0.8652 - val_loss: 0.3463 - val_accuracy: 0.8456\n",
            "Epoch 66/100\n",
            "200/200 [==============================] - 1s 4ms/step - loss: 0.3284 - accuracy: 0.8655 - val_loss: 0.3467 - val_accuracy: 0.8456\n",
            "Epoch 67/100\n",
            "200/200 [==============================] - 1s 4ms/step - loss: 0.3275 - accuracy: 0.8641 - val_loss: 0.3459 - val_accuracy: 0.8450\n",
            "Epoch 68/100\n",
            "200/200 [==============================] - 1s 4ms/step - loss: 0.3276 - accuracy: 0.8661 - val_loss: 0.3468 - val_accuracy: 0.8475\n",
            "Epoch 69/100\n",
            "200/200 [==============================] - 1s 4ms/step - loss: 0.3274 - accuracy: 0.8666 - val_loss: 0.3460 - val_accuracy: 0.8462\n",
            "Epoch 70/100\n",
            "200/200 [==============================] - 1s 4ms/step - loss: 0.3274 - accuracy: 0.8634 - val_loss: 0.3447 - val_accuracy: 0.8456\n",
            "Epoch 71/100\n",
            "200/200 [==============================] - 1s 3ms/step - loss: 0.3270 - accuracy: 0.8656 - val_loss: 0.3457 - val_accuracy: 0.8481\n",
            "Epoch 72/100\n",
            "200/200 [==============================] - 1s 4ms/step - loss: 0.3272 - accuracy: 0.8636 - val_loss: 0.3454 - val_accuracy: 0.8450\n",
            "Epoch 73/100\n",
            "200/200 [==============================] - 1s 4ms/step - loss: 0.3271 - accuracy: 0.8662 - val_loss: 0.3431 - val_accuracy: 0.8462\n",
            "Epoch 74/100\n",
            "200/200 [==============================] - 1s 4ms/step - loss: 0.3273 - accuracy: 0.8637 - val_loss: 0.3443 - val_accuracy: 0.8438\n",
            "Epoch 75/100\n",
            "200/200 [==============================] - 1s 4ms/step - loss: 0.3265 - accuracy: 0.8670 - val_loss: 0.3436 - val_accuracy: 0.8500\n",
            "Epoch 76/100\n",
            "200/200 [==============================] - 1s 3ms/step - loss: 0.3269 - accuracy: 0.8656 - val_loss: 0.3457 - val_accuracy: 0.8462\n",
            "Epoch 77/100\n",
            "200/200 [==============================] - 1s 4ms/step - loss: 0.3268 - accuracy: 0.8672 - val_loss: 0.3498 - val_accuracy: 0.8462\n",
            "Epoch 78/100\n",
            "200/200 [==============================] - 1s 4ms/step - loss: 0.3268 - accuracy: 0.8645 - val_loss: 0.3446 - val_accuracy: 0.8462\n",
            "Epoch 79/100\n",
            "200/200 [==============================] - 1s 3ms/step - loss: 0.3256 - accuracy: 0.8662 - val_loss: 0.3465 - val_accuracy: 0.8450\n",
            "Epoch 80/100\n",
            "200/200 [==============================] - 1s 4ms/step - loss: 0.3262 - accuracy: 0.8675 - val_loss: 0.3465 - val_accuracy: 0.8481\n",
            "Epoch 81/100\n",
            "200/200 [==============================] - 1s 4ms/step - loss: 0.3258 - accuracy: 0.8672 - val_loss: 0.3444 - val_accuracy: 0.8462\n",
            "Epoch 82/100\n",
            "200/200 [==============================] - 1s 4ms/step - loss: 0.3260 - accuracy: 0.8678 - val_loss: 0.3477 - val_accuracy: 0.8431\n",
            "Epoch 83/100\n",
            "200/200 [==============================] - 1s 4ms/step - loss: 0.3260 - accuracy: 0.8662 - val_loss: 0.3453 - val_accuracy: 0.8431\n",
            "Epoch 84/100\n",
            "200/200 [==============================] - 1s 4ms/step - loss: 0.3261 - accuracy: 0.8683 - val_loss: 0.3435 - val_accuracy: 0.8456\n",
            "Epoch 85/100\n",
            "200/200 [==============================] - 1s 4ms/step - loss: 0.3258 - accuracy: 0.8675 - val_loss: 0.3479 - val_accuracy: 0.8462\n",
            "Epoch 86/100\n",
            "200/200 [==============================] - 1s 4ms/step - loss: 0.3258 - accuracy: 0.8673 - val_loss: 0.3484 - val_accuracy: 0.8475\n",
            "Epoch 87/100\n",
            "200/200 [==============================] - 1s 4ms/step - loss: 0.3253 - accuracy: 0.8673 - val_loss: 0.3454 - val_accuracy: 0.8444\n",
            "Epoch 88/100\n",
            "200/200 [==============================] - 1s 4ms/step - loss: 0.3249 - accuracy: 0.8661 - val_loss: 0.3451 - val_accuracy: 0.8481\n",
            "Epoch 89/100\n",
            "200/200 [==============================] - 1s 4ms/step - loss: 0.3253 - accuracy: 0.8641 - val_loss: 0.3449 - val_accuracy: 0.8487\n",
            "Epoch 90/100\n",
            "200/200 [==============================] - 1s 4ms/step - loss: 0.3248 - accuracy: 0.8680 - val_loss: 0.3443 - val_accuracy: 0.8481\n",
            "Epoch 91/100\n",
            "200/200 [==============================] - 1s 4ms/step - loss: 0.3250 - accuracy: 0.8672 - val_loss: 0.3455 - val_accuracy: 0.8494\n",
            "Epoch 92/100\n",
            "200/200 [==============================] - 1s 4ms/step - loss: 0.3246 - accuracy: 0.8678 - val_loss: 0.3465 - val_accuracy: 0.8500\n",
            "Epoch 93/100\n",
            "200/200 [==============================] - 1s 4ms/step - loss: 0.3258 - accuracy: 0.8670 - val_loss: 0.3496 - val_accuracy: 0.8450\n",
            "Epoch 94/100\n",
            "200/200 [==============================] - 1s 3ms/step - loss: 0.3244 - accuracy: 0.8683 - val_loss: 0.3486 - val_accuracy: 0.8425\n",
            "Epoch 95/100\n",
            "200/200 [==============================] - 1s 4ms/step - loss: 0.3250 - accuracy: 0.8661 - val_loss: 0.3441 - val_accuracy: 0.8506\n",
            "Epoch 96/100\n",
            "200/200 [==============================] - 1s 4ms/step - loss: 0.3250 - accuracy: 0.8673 - val_loss: 0.3461 - val_accuracy: 0.8462\n",
            "Epoch 97/100\n",
            "200/200 [==============================] - 1s 4ms/step - loss: 0.3243 - accuracy: 0.8659 - val_loss: 0.3444 - val_accuracy: 0.8506\n",
            "Epoch 98/100\n",
            "200/200 [==============================] - 1s 4ms/step - loss: 0.3245 - accuracy: 0.8655 - val_loss: 0.3458 - val_accuracy: 0.8487\n",
            "Epoch 99/100\n",
            "200/200 [==============================] - 1s 4ms/step - loss: 0.3242 - accuracy: 0.8678 - val_loss: 0.3427 - val_accuracy: 0.8512\n",
            "Epoch 100/100\n",
            "200/200 [==============================] - 1s 4ms/step - loss: 0.3247 - accuracy: 0.8675 - val_loss: 0.3463 - val_accuracy: 0.8475\n"
          ]
        }
      ]
    },
    {
      "cell_type": "code",
      "source": [
        "model.layers[0].get_weights()"
      ],
      "metadata": {
        "colab": {
          "base_uri": "https://localhost:8080/"
        },
        "id": "wvZ8uiKIJUtU",
        "outputId": "d3ee4cc7-7d7d-4767-ebc6-c22132350839"
      },
      "execution_count": 30,
      "outputs": [
        {
          "output_type": "execute_result",
          "data": {
            "text/plain": [
              "[array([[ 0.15004165,  0.07210909,  0.22472043,  0.1380183 ,  0.23624766,\n",
              "          0.08781319,  0.08745839, -0.40986976, -0.36561593,  0.19450448,\n",
              "          0.4494338 ],\n",
              "        [-0.20472   ,  0.10342901, -0.07419588, -0.1360886 , -0.05868693,\n",
              "         -0.83502597, -0.75546587,  0.15075184, -0.4273677 ,  0.75620615,\n",
              "         -0.844977  ],\n",
              "        [-0.5005016 , -0.22860265,  0.6137957 , -0.04804206,  0.153362  ,\n",
              "         -0.6054701 ,  0.04378031, -0.25806385,  0.09882478,  0.31283763,\n",
              "         -0.16224897],\n",
              "        [-0.6209256 ,  0.20579413,  0.02407177, -0.25166875,  0.2957666 ,\n",
              "          0.3920597 , -0.04381723,  0.5266724 ,  0.33515385, -0.11840402,\n",
              "         -0.1920458 ],\n",
              "        [-0.62786835, -0.08190246, -0.01824262, -1.5627629 ,  0.97773296,\n",
              "         -0.37463352, -0.08380479,  0.15362981, -0.23895422, -0.28660613,\n",
              "         -0.30577743],\n",
              "        [-0.48536655,  0.63587904,  0.25242323,  0.02842857,  0.07182435,\n",
              "         -0.33941808, -0.04390915, -0.14728001,  0.17419389,  0.32370105,\n",
              "          0.05330532],\n",
              "        [ 0.5150261 ,  0.00242042, -0.15229188, -0.34589204, -0.35691378,\n",
              "         -0.43918437, -0.3661139 , -0.7245715 , -0.42118102,  0.7209565 ,\n",
              "         -0.3257826 ],\n",
              "        [ 0.02230284,  0.24378276, -0.08769695,  0.17948474,  0.11651473,\n",
              "         -0.38771084,  0.05567398, -0.24487308, -0.44023252,  0.2640274 ,\n",
              "          0.35607696],\n",
              "        [-0.1076636 , -0.17615068, -0.414494  ,  0.47679022,  0.03920465,\n",
              "          0.15617347,  0.02175521, -0.31177485, -0.11084639,  0.41345754,\n",
              "          0.08044032],\n",
              "        [-0.15293619,  0.32489002, -0.22700225,  0.05808543,  0.08557045,\n",
              "          0.35219073, -0.040963  ,  0.2494655 ,  0.46836022,  0.23592257,\n",
              "         -0.39595664],\n",
              "        [-0.2778725 ,  0.64526623, -0.19105391,  0.00712803, -0.12897772,\n",
              "          0.25746545,  0.09446645, -0.22479469, -0.6513559 ,  0.03083173,\n",
              "         -0.31411487]], dtype=float32),\n",
              " array([ 0.32010695,  0.5295324 ,  0.5429874 ,  0.42273074,  0.0684801 ,\n",
              "        -0.15266685,  1.2005142 , -0.07840288,  0.10343014,  0.21132395,\n",
              "         0.51694876], dtype=float32)]"
            ]
          },
          "metadata": {},
          "execution_count": 30
        }
      ]
    },
    {
      "cell_type": "code",
      "source": [
        "model.predict(X_test_scaled)"
      ],
      "metadata": {
        "colab": {
          "base_uri": "https://localhost:8080/"
        },
        "id": "e0IZ-xXYJr4T",
        "outputId": "d8c56739-c436-46de-bfa7-ff9ab2be108d"
      },
      "execution_count": 31,
      "outputs": [
        {
          "output_type": "execute_result",
          "data": {
            "text/plain": [
              "array([[0.04685276],\n",
              "       [0.13170335],\n",
              "       [0.06419675],\n",
              "       ...,\n",
              "       [0.00574506],\n",
              "       [0.05720974],\n",
              "       [0.4268519 ]], dtype=float32)"
            ]
          },
          "metadata": {},
          "execution_count": 31
        }
      ]
    },
    {
      "cell_type": "code",
      "source": [
        "y_log = model.predict(X_test_scaled)"
      ],
      "metadata": {
        "id": "4j1UgHdcJ_r7"
      },
      "execution_count": 32,
      "outputs": []
    },
    {
      "cell_type": "code",
      "source": [
        "y_pred = np.where(y_log>0.5,1,0)"
      ],
      "metadata": {
        "id": "8pCPdOi4KUMm"
      },
      "execution_count": 33,
      "outputs": []
    },
    {
      "cell_type": "code",
      "source": [
        "from sklearn.metrics import accuracy_score\n",
        "accuracy_score(y_test, y_pred)"
      ],
      "metadata": {
        "colab": {
          "base_uri": "https://localhost:8080/"
        },
        "id": "QRA4GWMjKjTm",
        "outputId": "4f365398-b841-4c92-8763-cf76ec7d986d"
      },
      "execution_count": 34,
      "outputs": [
        {
          "output_type": "execute_result",
          "data": {
            "text/plain": [
              "0.8575"
            ]
          },
          "metadata": {},
          "execution_count": 34
        }
      ]
    },
    {
      "cell_type": "code",
      "source": [
        "history.history"
      ],
      "metadata": {
        "colab": {
          "base_uri": "https://localhost:8080/"
        },
        "id": "m-PqxL-XLIgR",
        "outputId": "c61866c7-a0b0-4915-9aba-b8dc0fef5246"
      },
      "execution_count": 35,
      "outputs": [
        {
          "output_type": "execute_result",
          "data": {
            "text/plain": [
              "{'accuracy': [0.7454687356948853,\n",
              "  0.8059375286102295,\n",
              "  0.8160937428474426,\n",
              "  0.8220312595367432,\n",
              "  0.82421875,\n",
              "  0.8274999856948853,\n",
              "  0.8274999856948853,\n",
              "  0.8303124904632568,\n",
              "  0.8318750262260437,\n",
              "  0.8326562643051147,\n",
              "  0.8339062333106995,\n",
              "  0.8356249928474426,\n",
              "  0.8370312452316284,\n",
              "  0.836718738079071,\n",
              "  0.839062511920929,\n",
              "  0.8417187333106995,\n",
              "  0.8454687595367432,\n",
              "  0.8475000262260437,\n",
              "  0.8492187261581421,\n",
              "  0.8526562452316284,\n",
              "  0.8540624976158142,\n",
              "  0.8540624976158142,\n",
              "  0.8551562428474426,\n",
              "  0.8592187762260437,\n",
              "  0.8582812547683716,\n",
              "  0.8600000143051147,\n",
              "  0.8610937595367432,\n",
              "  0.8598437309265137,\n",
              "  0.8620312213897705,\n",
              "  0.8610937595367432,\n",
              "  0.8609374761581421,\n",
              "  0.8621875047683716,\n",
              "  0.8629687428474426,\n",
              "  0.8648437261581421,\n",
              "  0.8635937571525574,\n",
              "  0.8623437285423279,\n",
              "  0.8635937571525574,\n",
              "  0.8639062643051147,\n",
              "  0.8637499809265137,\n",
              "  0.862500011920929,\n",
              "  0.8618749976158142,\n",
              "  0.8659374713897705,\n",
              "  0.86328125,\n",
              "  0.864062488079071,\n",
              "  0.8635937571525574,\n",
              "  0.8623437285423279,\n",
              "  0.8634374737739563,\n",
              "  0.8643749952316284,\n",
              "  0.8651562333106995,\n",
              "  0.8650000095367432,\n",
              "  0.8651562333106995,\n",
              "  0.8650000095367432,\n",
              "  0.8629687428474426,\n",
              "  0.8645312786102295,\n",
              "  0.8643749952316284,\n",
              "  0.8634374737739563,\n",
              "  0.8637499809265137,\n",
              "  0.864062488079071,\n",
              "  0.8639062643051147,\n",
              "  0.8653125166893005,\n",
              "  0.8651562333106995,\n",
              "  0.8645312786102295,\n",
              "  0.8634374737739563,\n",
              "  0.8645312786102295,\n",
              "  0.8651562333106995,\n",
              "  0.8654687404632568,\n",
              "  0.864062488079071,\n",
              "  0.8660937547683716,\n",
              "  0.8665624856948853,\n",
              "  0.8634374737739563,\n",
              "  0.8656250238418579,\n",
              "  0.8635937571525574,\n",
              "  0.8662499785423279,\n",
              "  0.8637499809265137,\n",
              "  0.8670312762260437,\n",
              "  0.8656250238418579,\n",
              "  0.8671875,\n",
              "  0.8645312786102295,\n",
              "  0.8662499785423279,\n",
              "  0.8675000071525574,\n",
              "  0.8671875,\n",
              "  0.8678125143051147,\n",
              "  0.8662499785423279,\n",
              "  0.8682812452316284,\n",
              "  0.8675000071525574,\n",
              "  0.8673437237739563,\n",
              "  0.8673437237739563,\n",
              "  0.8660937547683716,\n",
              "  0.864062488079071,\n",
              "  0.867968738079071,\n",
              "  0.8671875,\n",
              "  0.8678125143051147,\n",
              "  0.8670312762260437,\n",
              "  0.8682812452316284,\n",
              "  0.8660937547683716,\n",
              "  0.8673437237739563,\n",
              "  0.8659374713897705,\n",
              "  0.8654687404632568,\n",
              "  0.8678125143051147,\n",
              "  0.8675000071525574],\n",
              " 'loss': [0.5484397411346436,\n",
              "  0.45357197523117065,\n",
              "  0.43420350551605225,\n",
              "  0.42574089765548706,\n",
              "  0.4199387729167938,\n",
              "  0.41512417793273926,\n",
              "  0.4116111993789673,\n",
              "  0.40767601132392883,\n",
              "  0.40415629744529724,\n",
              "  0.4020879864692688,\n",
              "  0.39831259846687317,\n",
              "  0.39564189314842224,\n",
              "  0.3926089406013489,\n",
              "  0.3892701268196106,\n",
              "  0.385600745677948,\n",
              "  0.3815020024776459,\n",
              "  0.3772844076156616,\n",
              "  0.3726370334625244,\n",
              "  0.367951899766922,\n",
              "  0.3630937933921814,\n",
              "  0.35878288745880127,\n",
              "  0.35545551776885986,\n",
              "  0.35198140144348145,\n",
              "  0.3491367995738983,\n",
              "  0.3471226394176483,\n",
              "  0.34547242522239685,\n",
              "  0.34361305832862854,\n",
              "  0.3422594964504242,\n",
              "  0.34125736355781555,\n",
              "  0.33995872735977173,\n",
              "  0.33900824189186096,\n",
              "  0.3380790650844574,\n",
              "  0.3381195366382599,\n",
              "  0.33714693784713745,\n",
              "  0.33633774518966675,\n",
              "  0.3357255160808563,\n",
              "  0.3350422978401184,\n",
              "  0.33524447679519653,\n",
              "  0.3353860378265381,\n",
              "  0.33429715037345886,\n",
              "  0.3334541320800781,\n",
              "  0.3332425653934479,\n",
              "  0.33261772990226746,\n",
              "  0.3329278230667114,\n",
              "  0.3322199583053589,\n",
              "  0.33180534839630127,\n",
              "  0.3323955833911896,\n",
              "  0.3319098949432373,\n",
              "  0.33091408014297485,\n",
              "  0.3310388922691345,\n",
              "  0.330789715051651,\n",
              "  0.3304559290409088,\n",
              "  0.33028820157051086,\n",
              "  0.3300550878047943,\n",
              "  0.3297981917858124,\n",
              "  0.32999923825263977,\n",
              "  0.32914507389068604,\n",
              "  0.32891255617141724,\n",
              "  0.3288404047489166,\n",
              "  0.3290681838989258,\n",
              "  0.3286733329296112,\n",
              "  0.3280230462551117,\n",
              "  0.3280729651451111,\n",
              "  0.32892170548439026,\n",
              "  0.3279920518398285,\n",
              "  0.3283858895301819,\n",
              "  0.3274845480918884,\n",
              "  0.3275887370109558,\n",
              "  0.32739654183387756,\n",
              "  0.3274346888065338,\n",
              "  0.32696181535720825,\n",
              "  0.3271571397781372,\n",
              "  0.32711315155029297,\n",
              "  0.32730814814567566,\n",
              "  0.32646140456199646,\n",
              "  0.3268766701221466,\n",
              "  0.3268381357192993,\n",
              "  0.3268461525440216,\n",
              "  0.32563742995262146,\n",
              "  0.326150506734848,\n",
              "  0.32584744691848755,\n",
              "  0.3260188400745392,\n",
              "  0.3260127902030945,\n",
              "  0.3261198401451111,\n",
              "  0.32583001255989075,\n",
              "  0.3258192837238312,\n",
              "  0.3253321349620819,\n",
              "  0.3248842656612396,\n",
              "  0.3253495395183563,\n",
              "  0.32475802302360535,\n",
              "  0.32502201199531555,\n",
              "  0.3246324956417084,\n",
              "  0.32583704590797424,\n",
              "  0.3244246542453766,\n",
              "  0.3250279724597931,\n",
              "  0.32502856850624084,\n",
              "  0.32434120774269104,\n",
              "  0.324494868516922,\n",
              "  0.32416969537734985,\n",
              "  0.3247285783290863],\n",
              " 'val_accuracy': [0.7981250286102295,\n",
              "  0.8149999976158142,\n",
              "  0.8181250095367432,\n",
              "  0.8187500238418579,\n",
              "  0.8206250071525574,\n",
              "  0.8243749737739563,\n",
              "  0.8243749737739563,\n",
              "  0.8293750286102295,\n",
              "  0.828125,\n",
              "  0.8274999856948853,\n",
              "  0.824999988079071,\n",
              "  0.8268749713897705,\n",
              "  0.828125,\n",
              "  0.828125,\n",
              "  0.8299999833106995,\n",
              "  0.831250011920929,\n",
              "  0.8331249952316284,\n",
              "  0.8287500143051147,\n",
              "  0.8374999761581421,\n",
              "  0.8362500071525574,\n",
              "  0.8418750166893005,\n",
              "  0.8424999713897705,\n",
              "  0.8418750166893005,\n",
              "  0.8424999713897705,\n",
              "  0.8462499976158142,\n",
              "  0.8443750143051147,\n",
              "  0.84375,\n",
              "  0.8462499976158142,\n",
              "  0.84375,\n",
              "  0.8450000286102295,\n",
              "  0.846875011920929,\n",
              "  0.8487499952316284,\n",
              "  0.8462499976158142,\n",
              "  0.8418750166893005,\n",
              "  0.8443750143051147,\n",
              "  0.8462499976158142,\n",
              "  0.84375,\n",
              "  0.8412500023841858,\n",
              "  0.8418750166893005,\n",
              "  0.84375,\n",
              "  0.8443750143051147,\n",
              "  0.8418750166893005,\n",
              "  0.8450000286102295,\n",
              "  0.8431249856948853,\n",
              "  0.8450000286102295,\n",
              "  0.846875011920929,\n",
              "  0.8462499976158142,\n",
              "  0.8462499976158142,\n",
              "  0.84375,\n",
              "  0.8475000262260437,\n",
              "  0.8456249833106995,\n",
              "  0.8450000286102295,\n",
              "  0.8443750143051147,\n",
              "  0.84375,\n",
              "  0.8431249856948853,\n",
              "  0.84375,\n",
              "  0.8456249833106995,\n",
              "  0.8450000286102295,\n",
              "  0.8450000286102295,\n",
              "  0.84375,\n",
              "  0.8462499976158142,\n",
              "  0.8443750143051147,\n",
              "  0.8450000286102295,\n",
              "  0.8450000286102295,\n",
              "  0.8456249833106995,\n",
              "  0.8456249833106995,\n",
              "  0.8450000286102295,\n",
              "  0.8475000262260437,\n",
              "  0.8462499976158142,\n",
              "  0.8456249833106995,\n",
              "  0.8481249809265137,\n",
              "  0.8450000286102295,\n",
              "  0.8462499976158142,\n",
              "  0.84375,\n",
              "  0.8500000238418579,\n",
              "  0.8462499976158142,\n",
              "  0.8462499976158142,\n",
              "  0.8462499976158142,\n",
              "  0.8450000286102295,\n",
              "  0.8481249809265137,\n",
              "  0.8462499976158142,\n",
              "  0.8431249856948853,\n",
              "  0.8431249856948853,\n",
              "  0.8456249833106995,\n",
              "  0.8462499976158142,\n",
              "  0.8475000262260437,\n",
              "  0.8443750143051147,\n",
              "  0.8481249809265137,\n",
              "  0.8487499952316284,\n",
              "  0.8481249809265137,\n",
              "  0.8493750095367432,\n",
              "  0.8500000238418579,\n",
              "  0.8450000286102295,\n",
              "  0.8424999713897705,\n",
              "  0.8506249785423279,\n",
              "  0.8462499976158142,\n",
              "  0.8506249785423279,\n",
              "  0.8487499952316284,\n",
              "  0.8512499928474426,\n",
              "  0.8475000262260437],\n",
              " 'val_loss': [0.4699666500091553,\n",
              "  0.4386661648750305,\n",
              "  0.4294779300689697,\n",
              "  0.42392027378082275,\n",
              "  0.4193449914455414,\n",
              "  0.4160797595977783,\n",
              "  0.41376444697380066,\n",
              "  0.4102066457271576,\n",
              "  0.4089491367340088,\n",
              "  0.40387728810310364,\n",
              "  0.40464669466018677,\n",
              "  0.399344801902771,\n",
              "  0.39672622084617615,\n",
              "  0.3945189416408539,\n",
              "  0.3901086449623108,\n",
              "  0.3864067792892456,\n",
              "  0.38219115138053894,\n",
              "  0.3787636458873749,\n",
              "  0.37172168493270874,\n",
              "  0.3701801300048828,\n",
              "  0.3662877678871155,\n",
              "  0.36259210109710693,\n",
              "  0.36176547408103943,\n",
              "  0.3608379364013672,\n",
              "  0.3566434383392334,\n",
              "  0.35551005601882935,\n",
              "  0.3575323522090912,\n",
              "  0.3562854528427124,\n",
              "  0.3552965521812439,\n",
              "  0.3543272018432617,\n",
              "  0.3532516062259674,\n",
              "  0.35072216391563416,\n",
              "  0.34969016909599304,\n",
              "  0.35110217332839966,\n",
              "  0.3512643873691559,\n",
              "  0.34986332058906555,\n",
              "  0.3523043394088745,\n",
              "  0.34978264570236206,\n",
              "  0.35063523054122925,\n",
              "  0.34966373443603516,\n",
              "  0.34893548488616943,\n",
              "  0.35030433535575867,\n",
              "  0.3500140309333801,\n",
              "  0.3488273322582245,\n",
              "  0.35076674818992615,\n",
              "  0.34787794947624207,\n",
              "  0.35042670369148254,\n",
              "  0.3471142649650574,\n",
              "  0.35090354084968567,\n",
              "  0.3461955189704895,\n",
              "  0.3481762409210205,\n",
              "  0.34738677740097046,\n",
              "  0.3485441505908966,\n",
              "  0.3488641381263733,\n",
              "  0.34741005301475525,\n",
              "  0.34657344222068787,\n",
              "  0.3459804058074951,\n",
              "  0.34850016236305237,\n",
              "  0.34791427850723267,\n",
              "  0.3467217683792114,\n",
              "  0.3462327718734741,\n",
              "  0.3504320979118347,\n",
              "  0.3478968143463135,\n",
              "  0.3452369272708893,\n",
              "  0.3463366627693176,\n",
              "  0.34668731689453125,\n",
              "  0.3458852767944336,\n",
              "  0.34681010246276855,\n",
              "  0.34603622555732727,\n",
              "  0.34465038776397705,\n",
              "  0.3456624746322632,\n",
              "  0.34537801146507263,\n",
              "  0.3431359529495239,\n",
              "  0.3442871570587158,\n",
              "  0.3435697555541992,\n",
              "  0.34568890929222107,\n",
              "  0.3497592508792877,\n",
              "  0.3445816934108734,\n",
              "  0.34650862216949463,\n",
              "  0.3465287387371063,\n",
              "  0.34435126185417175,\n",
              "  0.34772759675979614,\n",
              "  0.34530380368232727,\n",
              "  0.34349724650382996,\n",
              "  0.34793412685394287,\n",
              "  0.34839779138565063,\n",
              "  0.34535229206085205,\n",
              "  0.3451327383518219,\n",
              "  0.34494125843048096,\n",
              "  0.3443429470062256,\n",
              "  0.34552571177482605,\n",
              "  0.34649914503097534,\n",
              "  0.3496420383453369,\n",
              "  0.34860366582870483,\n",
              "  0.3440679609775543,\n",
              "  0.3460606038570404,\n",
              "  0.34435927867889404,\n",
              "  0.3457593023777008,\n",
              "  0.3427494764328003,\n",
              "  0.34634163975715637]}"
            ]
          },
          "metadata": {},
          "execution_count": 35
        }
      ]
    },
    {
      "cell_type": "code",
      "source": [
        "plt.plot(history.history['loss'])\n",
        "plt.plot(history.history['val_loss'])"
      ],
      "metadata": {
        "colab": {
          "base_uri": "https://localhost:8080/",
          "height": 282
        },
        "id": "Zuz4a7tacU3O",
        "outputId": "68c8ce3f-6648-405a-f577-b582b0494f90"
      },
      "execution_count": 36,
      "outputs": [
        {
          "output_type": "execute_result",
          "data": {
            "text/plain": [
              "[<matplotlib.lines.Line2D at 0x7f176d73c410>]"
            ]
          },
          "metadata": {},
          "execution_count": 36
        },
        {
          "output_type": "display_data",
          "data": {
            "text/plain": [
              "<Figure size 432x288 with 1 Axes>"
            ],
            "image/png": "[encoded data removed]"
          },
          "metadata": {
            "needs_background": "light"
          }
        }
      ]
    },
    {
      "cell_type": "code",
      "source": [
        "plt.plot(history.history['accuracy'])\n",
        "plt.plot(history.history['val_accuracy'])"
      ],
      "metadata": {
        "colab": {
          "base_uri": "https://localhost:8080/",
          "height": 282
        },
        "id": "08oTPUzqcmee",
        "outputId": "8574bf9d-2c63-4595-b555-6454c49f46b2"
      },
      "execution_count": 37,
      "outputs": [
        {
          "output_type": "execute_result",
          "data": {
            "text/plain": [
              "[<matplotlib.lines.Line2D at 0x7f176d7a6710>]"
            ]
          },
          "metadata": {},
          "execution_count": 37
        },
        {
          "output_type": "display_data",
          "data": {
            "text/plain": [
              "<Figure size 432x288 with 1 Axes>"
            ],
            "image/png": "[encoded data removed]"
          },
          "metadata": {
            "needs_background": "light"
          }
        }
      ]
    },
    {
      "cell_type": "code",
      "source": [
        ""
      ],
      "metadata": {
        "id": "tPxq7W0mlUrk"
      },
      "execution_count": null,
      "outputs": []
    }
  ]
}