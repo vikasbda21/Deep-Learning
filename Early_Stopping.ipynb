{
  "nbformat": 4,
  "nbformat_minor": 0,
  "metadata": {
    "colab": {
      "name": "Early_Stopping.ipynb",
      "provenance": [],
      "authorship_tag": "ABX9TyMIigReaygdD9igRmNcTNmu",
      "include_colab_link": true
    },
    "kernelspec": {
      "name": "python3",
      "display_name": "Python 3"
    },
    "language_info": {
      "name": "python"
    }
  },
  "cells": [
    {
      "cell_type": "markdown",
      "metadata": {
        "id": "view-in-github",
        "colab_type": "text"
      },
      "source": [
        "<a href=\"https://colab.research.google.com/github/vikasbda21/Deep-Learning/blob/main/Early_Stopping.ipynb\" target=\"_parent\"><img src=\"https://colab.research.google.com/assets/colab-badge.svg\" alt=\"Open In Colab\"/></a>"
      ]
    },
    {
      "cell_type": "markdown",
      "source": [
        "**In machine learning, early stopping is a form of regularization used to avoid overfitting when training a learner with an iterative method, such as gradient descent. Such methods update the learner so as to make it better fit the training data with each iteration.**"
      ],
      "metadata": {
        "id": "8z8ngX0NFGD7"
      }
    },
    {
      "cell_type": "code",
      "execution_count": 21,
      "metadata": {
        "id": "vvxQ2hV9Dmgr"
      },
      "outputs": [],
      "source": [
        "import tensorflow as tf\n",
        "import numpy as np\n",
        "import pandas as pd\n",
        "from pylab import rcParams\n",
        "import matplotlib.pyplot as plt\n",
        "import warnings\n",
        "from mlxtend.plotting import plot_decision_regions\n",
        "from matplotlib.colors import ListedColormap\n",
        "from tensorflow.keras.models import Sequential\n",
        "from tensorflow.keras.layers import Dense\n",
        "from tensorflow.keras.callbacks import EarlyStopping\n",
        "from sklearn.model_selection import train_test_split\n",
        "from sklearn.datasets import make_circles\n",
        "import seaborn as sns"
      ]
    },
    {
      "cell_type": "code",
      "source": [
        "X, y = make_circles(n_samples=100, noise=0.1, random_state=1)"
      ],
      "metadata": {
        "id": "C8miFUWJDuFb"
      },
      "execution_count": 22,
      "outputs": []
    },
    {
      "cell_type": "code",
      "source": [
        "sns.scatterplot(X[:,0],X[:,1],hue=y)"
      ],
      "metadata": {
        "id": "KuhPTWHcEI7c",
        "colab": {
          "base_uri": "https://localhost:8080/",
          "height": 337
        },
        "outputId": "71cf78d5-332c-4a48-f0ab-f9fab0047b82"
      },
      "execution_count": 23,
      "outputs": [
        {
          "output_type": "stream",
          "name": "stderr",
          "text": [
            "/usr/local/lib/python3.7/dist-packages/seaborn/_decorators.py:43: FutureWarning: Pass the following variables as keyword args: x, y. From version 0.12, the only valid positional argument will be `data`, and passing other arguments without an explicit keyword will result in an error or misinterpretation.\n",
            "  FutureWarning\n"
          ]
        },
        {
          "output_type": "execute_result",
          "data": {
            "text/plain": [
              "<matplotlib.axes._subplots.AxesSubplot at 0x7f4bc7900850>"
            ]
          },
          "metadata": {},
          "execution_count": 23
        },
        {
          "output_type": "display_data",
          "data": {
            "text/plain": [
              "<Figure size 432x288 with 1 Axes>"
            ],
            "image/png": "[encoded data removed]"
          },
          "metadata": {
            "needs_background": "light"
          }
        }
      ]
    },
    {
      "cell_type": "code",
      "source": [
        "X_train, X_test, y_train, y_test = train_test_split(X, y, test_size=0.20, random_state=2)"
      ],
      "metadata": {
        "id": "ihnXmX0EFAKL"
      },
      "execution_count": 24,
      "outputs": []
    },
    {
      "cell_type": "code",
      "source": [
        "model = Sequential()\n",
        "\n",
        "model.add(Dense(256, input_dim=2, activation='relu'))\n",
        "model.add(Dense(1, activation='sigmoid'))"
      ],
      "metadata": {
        "id": "p2MzNGg-D-VS"
      },
      "execution_count": 5,
      "outputs": []
    },
    {
      "cell_type": "code",
      "source": [
        "model.compile(loss='binary_crossentropy', optimizer='adam', metrics=['accuracy'])"
      ],
      "metadata": {
        "id": "R5Parga5EBjT"
      },
      "execution_count": 6,
      "outputs": []
    },
    {
      "cell_type": "code",
      "source": [
        "history = model.fit(X_train, y_train, validation_data=(X_test, y_test), epochs=3500, verbose=0)"
      ],
      "metadata": {
        "id": "JYHe5D7VEE2G"
      },
      "execution_count": 7,
      "outputs": []
    },
    {
      "cell_type": "code",
      "source": [
        "plt.plot(history.history['loss'], label='train')\n",
        "plt.plot(history.history['val_loss'], label='test')\n",
        "plt.legend()\n",
        "plt.show()"
      ],
      "metadata": {
        "colab": {
          "base_uri": "https://localhost:8080/",
          "height": 265
        },
        "id": "OymOoinmEIke",
        "outputId": "2522c2b1-2fab-43e5-f8be-046995f239de"
      },
      "execution_count": 8,
      "outputs": [
        {
          "output_type": "display_data",
          "data": {
            "text/plain": [
              "<Figure size 432x288 with 1 Axes>"
            ],
            "image/png": "[encoded data removed]"
          },
          "metadata": {
            "needs_background": "light"
          }
        }
      ]
    },
    {
      "cell_type": "code",
      "source": [
        "plot_decision_regions(X_test, y_test.ravel(), clf = model, legend=2)\n",
        "plt.show()"
      ],
      "metadata": {
        "colab": {
          "base_uri": "https://localhost:8080/",
          "height": 320
        },
        "id": "cNdEUZIvESHB",
        "outputId": "23ba6c31-fbe3-4ffc-cb89-3d856b216883"
      },
      "execution_count": 9,
      "outputs": [
        {
          "output_type": "stream",
          "name": "stderr",
          "text": [
            "/usr/local/lib/python3.7/dist-packages/mlxtend/plotting/decision_regions.py:244: MatplotlibDeprecationWarning: Passing unsupported keyword arguments to axis() will raise a TypeError in 3.3.\n",
            "  ax.axis(xmin=xx.min(), xmax=xx.max(), y_min=yy.min(), y_max=yy.max())\n"
          ]
        },
        {
          "output_type": "display_data",
          "data": {
            "text/plain": [
              "<Figure size 432x288 with 1 Axes>"
            ],
            "image/png": "[encoded data removed]"
          },
          "metadata": {
            "needs_background": "light"
          }
        }
      ]
    },
    {
      "cell_type": "markdown",
      "source": [
        "# Early-Stopping"
      ],
      "metadata": {
        "id": "y25V_HfCEVhU"
      }
    },
    {
      "cell_type": "code",
      "source": [
        "model = Sequential()\n",
        "\n",
        "model.add(Dense(256, input_dim=2, activation='relu'))\n",
        "model.add(Dense(1, activation='sigmoid'))"
      ],
      "metadata": {
        "id": "vlA9IW4DEV6Q"
      },
      "execution_count": 25,
      "outputs": []
    },
    {
      "cell_type": "code",
      "source": [
        "model.compile(loss='binary_crossentropy', optimizer='adam', metrics=['accuracy'])"
      ],
      "metadata": {
        "id": "sdSOaDDmEZ4l"
      },
      "execution_count": 26,
      "outputs": []
    },
    {
      "cell_type": "code",
      "source": [
        "callback = EarlyStopping(\n",
        "    monitor=\"val_loss\",\n",
        "    min_delta=0.00001,\n",
        "    patience=20,\n",
        "    verbose=1,\n",
        "    mode=\"auto\",\n",
        "    baseline=None,\n",
        "    restore_best_weights=False\n",
        ")"
      ],
      "metadata": {
        "id": "2DzSV0PUEZ1H"
      },
      "execution_count": 27,
      "outputs": []
    },
    {
      "cell_type": "code",
      "source": [
        "history = model.fit(X_train, y_train, validation_data=(X_test, y_test), epochs=3500, callbacks=callback)"
      ],
      "metadata": {
        "colab": {
          "base_uri": "https://localhost:8080/"
        },
        "id": "m_K4dZ38EZy-",
        "outputId": "30ed12d8-b9e7-4e38-ee4e-6088800425b6"
      },
      "execution_count": 29,
      "outputs": [
        {
          "output_type": "stream",
          "name": "stdout",
          "text": [
            "Epoch 1/3500\n",
            "3/3 [==============================] - 0s 27ms/step - loss: 0.6776 - accuracy: 0.5750 - val_loss: 0.7197 - val_accuracy: 0.4000\n",
            "Epoch 2/3500\n",
            "3/3 [==============================] - 0s 12ms/step - loss: 0.6768 - accuracy: 0.5625 - val_loss: 0.7196 - val_accuracy: 0.4000\n",
            "Epoch 3/3500\n",
            "3/3 [==============================] - 0s 13ms/step - loss: 0.6761 - accuracy: 0.5625 - val_loss: 0.7202 - val_accuracy: 0.4000\n",
            "Epoch 4/3500\n",
            "3/3 [==============================] - 0s 13ms/step - loss: 0.6756 - accuracy: 0.5625 - val_loss: 0.7209 - val_accuracy: 0.4000\n",
            "Epoch 5/3500\n",
            "3/3 [==============================] - 0s 14ms/step - loss: 0.6750 - accuracy: 0.5750 - val_loss: 0.7211 - val_accuracy: 0.4000\n",
            "Epoch 6/3500\n",
            "3/3 [==============================] - 0s 13ms/step - loss: 0.6746 - accuracy: 0.5750 - val_loss: 0.7217 - val_accuracy: 0.4000\n",
            "Epoch 7/3500\n",
            "3/3 [==============================] - 0s 17ms/step - loss: 0.6737 - accuracy: 0.5750 - val_loss: 0.7203 - val_accuracy: 0.4000\n",
            "Epoch 8/3500\n",
            "3/3 [==============================] - 0s 13ms/step - loss: 0.6731 - accuracy: 0.5625 - val_loss: 0.7191 - val_accuracy: 0.4000\n",
            "Epoch 9/3500\n",
            "3/3 [==============================] - 0s 14ms/step - loss: 0.6727 - accuracy: 0.5625 - val_loss: 0.7193 - val_accuracy: 0.4000\n",
            "Epoch 10/3500\n",
            "3/3 [==============================] - 0s 14ms/step - loss: 0.6724 - accuracy: 0.5750 - val_loss: 0.7190 - val_accuracy: 0.4000\n",
            "Epoch 11/3500\n",
            "3/3 [==============================] - 0s 14ms/step - loss: 0.6718 - accuracy: 0.5750 - val_loss: 0.7190 - val_accuracy: 0.4000\n",
            "Epoch 12/3500\n",
            "3/3 [==============================] - 0s 14ms/step - loss: 0.6713 - accuracy: 0.5750 - val_loss: 0.7187 - val_accuracy: 0.4500\n",
            "Epoch 13/3500\n",
            "3/3 [==============================] - 0s 15ms/step - loss: 0.6709 - accuracy: 0.5750 - val_loss: 0.7182 - val_accuracy: 0.4000\n",
            "Epoch 14/3500\n",
            "3/3 [==============================] - 0s 13ms/step - loss: 0.6700 - accuracy: 0.5750 - val_loss: 0.7178 - val_accuracy: 0.4500\n",
            "Epoch 15/3500\n",
            "3/3 [==============================] - 0s 14ms/step - loss: 0.6694 - accuracy: 0.5750 - val_loss: 0.7177 - val_accuracy: 0.4500\n",
            "Epoch 16/3500\n",
            "3/3 [==============================] - 0s 13ms/step - loss: 0.6687 - accuracy: 0.5750 - val_loss: 0.7176 - val_accuracy: 0.4000\n",
            "Epoch 17/3500\n",
            "3/3 [==============================] - 0s 15ms/step - loss: 0.6682 - accuracy: 0.5750 - val_loss: 0.7171 - val_accuracy: 0.4000\n",
            "Epoch 18/3500\n",
            "3/3 [==============================] - 0s 13ms/step - loss: 0.6676 - accuracy: 0.5750 - val_loss: 0.7161 - val_accuracy: 0.4000\n",
            "Epoch 19/3500\n",
            "3/3 [==============================] - 0s 14ms/step - loss: 0.6670 - accuracy: 0.5750 - val_loss: 0.7160 - val_accuracy: 0.4000\n",
            "Epoch 20/3500\n",
            "3/3 [==============================] - 0s 13ms/step - loss: 0.6664 - accuracy: 0.5750 - val_loss: 0.7153 - val_accuracy: 0.4000\n",
            "Epoch 21/3500\n",
            "3/3 [==============================] - 0s 15ms/step - loss: 0.6658 - accuracy: 0.6000 - val_loss: 0.7157 - val_accuracy: 0.4000\n",
            "Epoch 22/3500\n",
            "3/3 [==============================] - 0s 12ms/step - loss: 0.6649 - accuracy: 0.5875 - val_loss: 0.7172 - val_accuracy: 0.4000\n",
            "Epoch 23/3500\n",
            "3/3 [==============================] - 0s 14ms/step - loss: 0.6642 - accuracy: 0.6000 - val_loss: 0.7182 - val_accuracy: 0.4000\n",
            "Epoch 24/3500\n",
            "3/3 [==============================] - 0s 13ms/step - loss: 0.6635 - accuracy: 0.6000 - val_loss: 0.7188 - val_accuracy: 0.4000\n",
            "Epoch 25/3500\n",
            "3/3 [==============================] - 0s 14ms/step - loss: 0.6628 - accuracy: 0.6000 - val_loss: 0.7199 - val_accuracy: 0.4000\n",
            "Epoch 26/3500\n",
            "3/3 [==============================] - 0s 13ms/step - loss: 0.6623 - accuracy: 0.6000 - val_loss: 0.7213 - val_accuracy: 0.4000\n",
            "Epoch 27/3500\n",
            "3/3 [==============================] - 0s 13ms/step - loss: 0.6616 - accuracy: 0.5875 - val_loss: 0.7225 - val_accuracy: 0.4000\n",
            "Epoch 28/3500\n",
            "3/3 [==============================] - 0s 13ms/step - loss: 0.6611 - accuracy: 0.5875 - val_loss: 0.7235 - val_accuracy: 0.4000\n",
            "Epoch 29/3500\n",
            "3/3 [==============================] - 0s 15ms/step - loss: 0.6605 - accuracy: 0.5875 - val_loss: 0.7237 - val_accuracy: 0.4000\n",
            "Epoch 30/3500\n",
            "3/3 [==============================] - 0s 14ms/step - loss: 0.6596 - accuracy: 0.5875 - val_loss: 0.7242 - val_accuracy: 0.4000\n",
            "Epoch 31/3500\n",
            "3/3 [==============================] - 0s 15ms/step - loss: 0.6589 - accuracy: 0.6000 - val_loss: 0.7237 - val_accuracy: 0.4000\n",
            "Epoch 32/3500\n",
            "3/3 [==============================] - 0s 16ms/step - loss: 0.6582 - accuracy: 0.6125 - val_loss: 0.7221 - val_accuracy: 0.4000\n",
            "Epoch 33/3500\n",
            "3/3 [==============================] - 0s 18ms/step - loss: 0.6573 - accuracy: 0.6125 - val_loss: 0.7206 - val_accuracy: 0.4000\n",
            "Epoch 34/3500\n",
            "3/3 [==============================] - 0s 14ms/step - loss: 0.6568 - accuracy: 0.6250 - val_loss: 0.7201 - val_accuracy: 0.5000\n",
            "Epoch 35/3500\n",
            "3/3 [==============================] - 0s 19ms/step - loss: 0.6558 - accuracy: 0.6250 - val_loss: 0.7193 - val_accuracy: 0.5000\n",
            "Epoch 36/3500\n",
            "3/3 [==============================] - 0s 15ms/step - loss: 0.6550 - accuracy: 0.6250 - val_loss: 0.7186 - val_accuracy: 0.5000\n",
            "Epoch 37/3500\n",
            "3/3 [==============================] - 0s 13ms/step - loss: 0.6543 - accuracy: 0.6750 - val_loss: 0.7180 - val_accuracy: 0.5000\n",
            "Epoch 38/3500\n",
            "3/3 [==============================] - 0s 14ms/step - loss: 0.6535 - accuracy: 0.6750 - val_loss: 0.7178 - val_accuracy: 0.5000\n",
            "Epoch 39/3500\n",
            "3/3 [==============================] - 0s 13ms/step - loss: 0.6524 - accuracy: 0.6750 - val_loss: 0.7165 - val_accuracy: 0.5000\n",
            "Epoch 40/3500\n",
            "3/3 [==============================] - 0s 24ms/step - loss: 0.6516 - accuracy: 0.6625 - val_loss: 0.7150 - val_accuracy: 0.5000\n",
            "Epoch 41/3500\n",
            "3/3 [==============================] - 0s 14ms/step - loss: 0.6507 - accuracy: 0.6875 - val_loss: 0.7148 - val_accuracy: 0.5000\n",
            "Epoch 42/3500\n",
            "3/3 [==============================] - 0s 13ms/step - loss: 0.6498 - accuracy: 0.6625 - val_loss: 0.7139 - val_accuracy: 0.4500\n",
            "Epoch 43/3500\n",
            "3/3 [==============================] - 0s 16ms/step - loss: 0.6490 - accuracy: 0.6500 - val_loss: 0.7137 - val_accuracy: 0.4500\n",
            "Epoch 44/3500\n",
            "3/3 [==============================] - 0s 14ms/step - loss: 0.6479 - accuracy: 0.6625 - val_loss: 0.7128 - val_accuracy: 0.4500\n",
            "Epoch 45/3500\n",
            "3/3 [==============================] - 0s 14ms/step - loss: 0.6476 - accuracy: 0.6750 - val_loss: 0.7126 - val_accuracy: 0.5000\n",
            "Epoch 46/3500\n",
            "3/3 [==============================] - 0s 13ms/step - loss: 0.6459 - accuracy: 0.6875 - val_loss: 0.7113 - val_accuracy: 0.5000\n",
            "Epoch 47/3500\n",
            "3/3 [==============================] - 0s 17ms/step - loss: 0.6453 - accuracy: 0.6625 - val_loss: 0.7091 - val_accuracy: 0.5000\n",
            "Epoch 48/3500\n",
            "3/3 [==============================] - 0s 14ms/step - loss: 0.6443 - accuracy: 0.6875 - val_loss: 0.7087 - val_accuracy: 0.5000\n",
            "Epoch 49/3500\n",
            "3/3 [==============================] - 0s 14ms/step - loss: 0.6433 - accuracy: 0.6875 - val_loss: 0.7078 - val_accuracy: 0.5000\n",
            "Epoch 50/3500\n",
            "3/3 [==============================] - 0s 15ms/step - loss: 0.6424 - accuracy: 0.6875 - val_loss: 0.7076 - val_accuracy: 0.5000\n",
            "Epoch 51/3500\n",
            "3/3 [==============================] - 0s 14ms/step - loss: 0.6416 - accuracy: 0.6750 - val_loss: 0.7081 - val_accuracy: 0.5000\n",
            "Epoch 52/3500\n",
            "3/3 [==============================] - 0s 14ms/step - loss: 0.6407 - accuracy: 0.6500 - val_loss: 0.7084 - val_accuracy: 0.5000\n",
            "Epoch 53/3500\n",
            "3/3 [==============================] - 0s 14ms/step - loss: 0.6399 - accuracy: 0.6875 - val_loss: 0.7088 - val_accuracy: 0.5000\n",
            "Epoch 54/3500\n",
            "3/3 [==============================] - 0s 14ms/step - loss: 0.6384 - accuracy: 0.7000 - val_loss: 0.7094 - val_accuracy: 0.5000\n",
            "Epoch 55/3500\n",
            "3/3 [==============================] - 0s 13ms/step - loss: 0.6375 - accuracy: 0.7000 - val_loss: 0.7090 - val_accuracy: 0.5000\n",
            "Epoch 56/3500\n",
            "3/3 [==============================] - 0s 15ms/step - loss: 0.6368 - accuracy: 0.7000 - val_loss: 0.7095 - val_accuracy: 0.5000\n",
            "Epoch 57/3500\n",
            "3/3 [==============================] - 0s 14ms/step - loss: 0.6356 - accuracy: 0.7000 - val_loss: 0.7083 - val_accuracy: 0.5000\n",
            "Epoch 58/3500\n",
            "3/3 [==============================] - 0s 18ms/step - loss: 0.6343 - accuracy: 0.7000 - val_loss: 0.7067 - val_accuracy: 0.5000\n",
            "Epoch 59/3500\n",
            "3/3 [==============================] - 0s 16ms/step - loss: 0.6336 - accuracy: 0.6875 - val_loss: 0.7037 - val_accuracy: 0.5000\n",
            "Epoch 60/3500\n",
            "3/3 [==============================] - 0s 14ms/step - loss: 0.6326 - accuracy: 0.6875 - val_loss: 0.7035 - val_accuracy: 0.5000\n",
            "Epoch 61/3500\n",
            "3/3 [==============================] - 0s 14ms/step - loss: 0.6314 - accuracy: 0.6875 - val_loss: 0.7025 - val_accuracy: 0.5000\n",
            "Epoch 62/3500\n",
            "3/3 [==============================] - 0s 15ms/step - loss: 0.6306 - accuracy: 0.6875 - val_loss: 0.7025 - val_accuracy: 0.5000\n",
            "Epoch 63/3500\n",
            "3/3 [==============================] - 0s 14ms/step - loss: 0.6296 - accuracy: 0.7000 - val_loss: 0.7025 - val_accuracy: 0.4500\n",
            "Epoch 64/3500\n",
            "3/3 [==============================] - 0s 13ms/step - loss: 0.6285 - accuracy: 0.7125 - val_loss: 0.7008 - val_accuracy: 0.5000\n",
            "Epoch 65/3500\n",
            "3/3 [==============================] - 0s 14ms/step - loss: 0.6275 - accuracy: 0.6875 - val_loss: 0.6997 - val_accuracy: 0.5500\n",
            "Epoch 66/3500\n",
            "3/3 [==============================] - 0s 14ms/step - loss: 0.6262 - accuracy: 0.6875 - val_loss: 0.6987 - val_accuracy: 0.5500\n",
            "Epoch 67/3500\n",
            "3/3 [==============================] - 0s 14ms/step - loss: 0.6249 - accuracy: 0.6750 - val_loss: 0.6991 - val_accuracy: 0.5500\n",
            "Epoch 68/3500\n",
            "3/3 [==============================] - 0s 13ms/step - loss: 0.6240 - accuracy: 0.6875 - val_loss: 0.7004 - val_accuracy: 0.5500\n",
            "Epoch 69/3500\n",
            "3/3 [==============================] - 0s 14ms/step - loss: 0.6233 - accuracy: 0.6875 - val_loss: 0.7002 - val_accuracy: 0.6500\n",
            "Epoch 70/3500\n",
            "3/3 [==============================] - 0s 18ms/step - loss: 0.6222 - accuracy: 0.6875 - val_loss: 0.7005 - val_accuracy: 0.6500\n",
            "Epoch 71/3500\n",
            "3/3 [==============================] - 0s 14ms/step - loss: 0.6208 - accuracy: 0.7000 - val_loss: 0.6993 - val_accuracy: 0.6500\n",
            "Epoch 72/3500\n",
            "3/3 [==============================] - 0s 15ms/step - loss: 0.6198 - accuracy: 0.7000 - val_loss: 0.6989 - val_accuracy: 0.6500\n",
            "Epoch 73/3500\n",
            "3/3 [==============================] - 0s 13ms/step - loss: 0.6186 - accuracy: 0.7000 - val_loss: 0.6973 - val_accuracy: 0.6500\n",
            "Epoch 74/3500\n",
            "3/3 [==============================] - 0s 12ms/step - loss: 0.6174 - accuracy: 0.7000 - val_loss: 0.6959 - val_accuracy: 0.6500\n",
            "Epoch 75/3500\n",
            "3/3 [==============================] - 0s 14ms/step - loss: 0.6165 - accuracy: 0.7250 - val_loss: 0.6929 - val_accuracy: 0.6500\n",
            "Epoch 76/3500\n",
            "3/3 [==============================] - 0s 14ms/step - loss: 0.6153 - accuracy: 0.7625 - val_loss: 0.6922 - val_accuracy: 0.7000\n",
            "Epoch 77/3500\n",
            "3/3 [==============================] - 0s 13ms/step - loss: 0.6154 - accuracy: 0.7500 - val_loss: 0.6912 - val_accuracy: 0.7000\n",
            "Epoch 78/3500\n",
            "3/3 [==============================] - 0s 14ms/step - loss: 0.6136 - accuracy: 0.7625 - val_loss: 0.6895 - val_accuracy: 0.7000\n",
            "Epoch 79/3500\n",
            "3/3 [==============================] - 0s 13ms/step - loss: 0.6128 - accuracy: 0.7750 - val_loss: 0.6884 - val_accuracy: 0.7000\n",
            "Epoch 80/3500\n",
            "3/3 [==============================] - 0s 14ms/step - loss: 0.6111 - accuracy: 0.7750 - val_loss: 0.6880 - val_accuracy: 0.7000\n",
            "Epoch 81/3500\n",
            "3/3 [==============================] - 0s 14ms/step - loss: 0.6097 - accuracy: 0.7625 - val_loss: 0.6871 - val_accuracy: 0.7000\n",
            "Epoch 82/3500\n",
            "3/3 [==============================] - 0s 14ms/step - loss: 0.6084 - accuracy: 0.7625 - val_loss: 0.6872 - val_accuracy: 0.6500\n",
            "Epoch 83/3500\n",
            "3/3 [==============================] - 0s 14ms/step - loss: 0.6074 - accuracy: 0.7875 - val_loss: 0.6874 - val_accuracy: 0.6500\n",
            "Epoch 84/3500\n",
            "3/3 [==============================] - 0s 19ms/step - loss: 0.6064 - accuracy: 0.7625 - val_loss: 0.6864 - val_accuracy: 0.6500\n",
            "Epoch 85/3500\n",
            "3/3 [==============================] - 0s 27ms/step - loss: 0.6051 - accuracy: 0.7625 - val_loss: 0.6854 - val_accuracy: 0.6500\n",
            "Epoch 86/3500\n",
            "3/3 [==============================] - 0s 14ms/step - loss: 0.6039 - accuracy: 0.7875 - val_loss: 0.6842 - val_accuracy: 0.6500\n",
            "Epoch 87/3500\n",
            "3/3 [==============================] - 0s 15ms/step - loss: 0.6028 - accuracy: 0.7875 - val_loss: 0.6817 - val_accuracy: 0.6500\n",
            "Epoch 88/3500\n",
            "3/3 [==============================] - 0s 13ms/step - loss: 0.6020 - accuracy: 0.7875 - val_loss: 0.6812 - val_accuracy: 0.6500\n",
            "Epoch 89/3500\n",
            "3/3 [==============================] - 0s 15ms/step - loss: 0.6009 - accuracy: 0.7875 - val_loss: 0.6809 - val_accuracy: 0.6500\n",
            "Epoch 90/3500\n",
            "3/3 [==============================] - 0s 15ms/step - loss: 0.5992 - accuracy: 0.7875 - val_loss: 0.6823 - val_accuracy: 0.6500\n",
            "Epoch 91/3500\n",
            "3/3 [==============================] - 0s 15ms/step - loss: 0.5986 - accuracy: 0.8000 - val_loss: 0.6829 - val_accuracy: 0.6500\n",
            "Epoch 92/3500\n",
            "3/3 [==============================] - 0s 14ms/step - loss: 0.5974 - accuracy: 0.8000 - val_loss: 0.6827 - val_accuracy: 0.7000\n",
            "Epoch 93/3500\n",
            "3/3 [==============================] - 0s 15ms/step - loss: 0.5968 - accuracy: 0.8000 - val_loss: 0.6819 - val_accuracy: 0.7000\n",
            "Epoch 94/3500\n",
            "3/3 [==============================] - 0s 15ms/step - loss: 0.5945 - accuracy: 0.8000 - val_loss: 0.6834 - val_accuracy: 0.7000\n",
            "Epoch 95/3500\n",
            "3/3 [==============================] - 0s 14ms/step - loss: 0.5934 - accuracy: 0.7875 - val_loss: 0.6834 - val_accuracy: 0.7000\n",
            "Epoch 96/3500\n",
            "3/3 [==============================] - 0s 15ms/step - loss: 0.5923 - accuracy: 0.7875 - val_loss: 0.6832 - val_accuracy: 0.7000\n",
            "Epoch 97/3500\n",
            "3/3 [==============================] - 0s 16ms/step - loss: 0.5918 - accuracy: 0.7750 - val_loss: 0.6823 - val_accuracy: 0.6500\n",
            "Epoch 98/3500\n",
            "3/3 [==============================] - 0s 16ms/step - loss: 0.5898 - accuracy: 0.7875 - val_loss: 0.6825 - val_accuracy: 0.6500\n",
            "Epoch 99/3500\n",
            "3/3 [==============================] - 0s 14ms/step - loss: 0.5903 - accuracy: 0.8125 - val_loss: 0.6805 - val_accuracy: 0.6500\n",
            "Epoch 100/3500\n",
            "3/3 [==============================] - 0s 15ms/step - loss: 0.5877 - accuracy: 0.8000 - val_loss: 0.6821 - val_accuracy: 0.6500\n",
            "Epoch 101/3500\n",
            "3/3 [==============================] - 0s 16ms/step - loss: 0.5862 - accuracy: 0.8000 - val_loss: 0.6823 - val_accuracy: 0.6500\n",
            "Epoch 102/3500\n",
            "3/3 [==============================] - 0s 16ms/step - loss: 0.5849 - accuracy: 0.7875 - val_loss: 0.6823 - val_accuracy: 0.6500\n",
            "Epoch 103/3500\n",
            "3/3 [==============================] - 0s 14ms/step - loss: 0.5840 - accuracy: 0.7875 - val_loss: 0.6835 - val_accuracy: 0.7000\n",
            "Epoch 104/3500\n",
            "3/3 [==============================] - 0s 15ms/step - loss: 0.5837 - accuracy: 0.7750 - val_loss: 0.6852 - val_accuracy: 0.6500\n",
            "Epoch 105/3500\n",
            "3/3 [==============================] - 0s 14ms/step - loss: 0.5816 - accuracy: 0.8125 - val_loss: 0.6821 - val_accuracy: 0.6500\n",
            "Epoch 106/3500\n",
            "3/3 [==============================] - 0s 14ms/step - loss: 0.5808 - accuracy: 0.8000 - val_loss: 0.6785 - val_accuracy: 0.6500\n",
            "Epoch 107/3500\n",
            "3/3 [==============================] - 0s 14ms/step - loss: 0.5794 - accuracy: 0.8000 - val_loss: 0.6762 - val_accuracy: 0.6500\n",
            "Epoch 108/3500\n",
            "3/3 [==============================] - 0s 19ms/step - loss: 0.5780 - accuracy: 0.8000 - val_loss: 0.6749 - val_accuracy: 0.7000\n",
            "Epoch 109/3500\n",
            "3/3 [==============================] - 0s 15ms/step - loss: 0.5769 - accuracy: 0.8000 - val_loss: 0.6731 - val_accuracy: 0.7000\n",
            "Epoch 110/3500\n",
            "3/3 [==============================] - 0s 13ms/step - loss: 0.5759 - accuracy: 0.8000 - val_loss: 0.6729 - val_accuracy: 0.7000\n",
            "Epoch 111/3500\n",
            "3/3 [==============================] - 0s 16ms/step - loss: 0.5745 - accuracy: 0.8000 - val_loss: 0.6717 - val_accuracy: 0.7000\n",
            "Epoch 112/3500\n",
            "3/3 [==============================] - 0s 14ms/step - loss: 0.5755 - accuracy: 0.8250 - val_loss: 0.6680 - val_accuracy: 0.6500\n",
            "Epoch 113/3500\n",
            "3/3 [==============================] - 0s 15ms/step - loss: 0.5724 - accuracy: 0.8250 - val_loss: 0.6679 - val_accuracy: 0.6500\n",
            "Epoch 114/3500\n",
            "3/3 [==============================] - 0s 14ms/step - loss: 0.5710 - accuracy: 0.8250 - val_loss: 0.6675 - val_accuracy: 0.6500\n",
            "Epoch 115/3500\n",
            "3/3 [==============================] - 0s 16ms/step - loss: 0.5699 - accuracy: 0.8125 - val_loss: 0.6669 - val_accuracy: 0.7000\n",
            "Epoch 116/3500\n",
            "3/3 [==============================] - 0s 16ms/step - loss: 0.5686 - accuracy: 0.8125 - val_loss: 0.6657 - val_accuracy: 0.7000\n",
            "Epoch 117/3500\n",
            "3/3 [==============================] - 0s 15ms/step - loss: 0.5681 - accuracy: 0.8125 - val_loss: 0.6666 - val_accuracy: 0.7000\n",
            "Epoch 118/3500\n",
            "3/3 [==============================] - 0s 14ms/step - loss: 0.5666 - accuracy: 0.8125 - val_loss: 0.6659 - val_accuracy: 0.7000\n",
            "Epoch 119/3500\n",
            "3/3 [==============================] - 0s 15ms/step - loss: 0.5653 - accuracy: 0.8125 - val_loss: 0.6647 - val_accuracy: 0.7000\n",
            "Epoch 120/3500\n",
            "3/3 [==============================] - 0s 24ms/step - loss: 0.5653 - accuracy: 0.8125 - val_loss: 0.6647 - val_accuracy: 0.6500\n",
            "Epoch 121/3500\n",
            "3/3 [==============================] - 0s 14ms/step - loss: 0.5634 - accuracy: 0.8125 - val_loss: 0.6644 - val_accuracy: 0.7000\n",
            "Epoch 122/3500\n",
            "3/3 [==============================] - 0s 14ms/step - loss: 0.5619 - accuracy: 0.8125 - val_loss: 0.6654 - val_accuracy: 0.6500\n",
            "Epoch 123/3500\n",
            "3/3 [==============================] - 0s 16ms/step - loss: 0.5608 - accuracy: 0.8125 - val_loss: 0.6667 - val_accuracy: 0.6500\n",
            "Epoch 124/3500\n",
            "3/3 [==============================] - 0s 14ms/step - loss: 0.5620 - accuracy: 0.7875 - val_loss: 0.6684 - val_accuracy: 0.6500\n",
            "Epoch 125/3500\n",
            "3/3 [==============================] - 0s 15ms/step - loss: 0.5585 - accuracy: 0.7875 - val_loss: 0.6668 - val_accuracy: 0.6500\n",
            "Epoch 126/3500\n",
            "3/3 [==============================] - 0s 13ms/step - loss: 0.5569 - accuracy: 0.8000 - val_loss: 0.6675 - val_accuracy: 0.7000\n",
            "Epoch 127/3500\n",
            "3/3 [==============================] - 0s 16ms/step - loss: 0.5562 - accuracy: 0.8125 - val_loss: 0.6653 - val_accuracy: 0.6500\n",
            "Epoch 128/3500\n",
            "3/3 [==============================] - 0s 15ms/step - loss: 0.5554 - accuracy: 0.8250 - val_loss: 0.6635 - val_accuracy: 0.5500\n",
            "Epoch 129/3500\n",
            "3/3 [==============================] - 0s 15ms/step - loss: 0.5548 - accuracy: 0.8250 - val_loss: 0.6612 - val_accuracy: 0.5500\n",
            "Epoch 130/3500\n",
            "3/3 [==============================] - 0s 14ms/step - loss: 0.5539 - accuracy: 0.8250 - val_loss: 0.6607 - val_accuracy: 0.5500\n",
            "Epoch 131/3500\n",
            "3/3 [==============================] - 0s 13ms/step - loss: 0.5527 - accuracy: 0.8250 - val_loss: 0.6583 - val_accuracy: 0.7000\n",
            "Epoch 132/3500\n",
            "3/3 [==============================] - 0s 14ms/step - loss: 0.5502 - accuracy: 0.8250 - val_loss: 0.6558 - val_accuracy: 0.7000\n",
            "Epoch 133/3500\n",
            "3/3 [==============================] - 0s 18ms/step - loss: 0.5493 - accuracy: 0.8250 - val_loss: 0.6549 - val_accuracy: 0.6500\n",
            "Epoch 134/3500\n",
            "3/3 [==============================] - 0s 13ms/step - loss: 0.5481 - accuracy: 0.8500 - val_loss: 0.6534 - val_accuracy: 0.6500\n",
            "Epoch 135/3500\n",
            "3/3 [==============================] - 0s 25ms/step - loss: 0.5468 - accuracy: 0.8500 - val_loss: 0.6535 - val_accuracy: 0.6500\n",
            "Epoch 136/3500\n",
            "3/3 [==============================] - 0s 14ms/step - loss: 0.5460 - accuracy: 0.8250 - val_loss: 0.6531 - val_accuracy: 0.6500\n",
            "Epoch 137/3500\n",
            "3/3 [==============================] - 0s 14ms/step - loss: 0.5446 - accuracy: 0.8375 - val_loss: 0.6531 - val_accuracy: 0.6500\n",
            "Epoch 138/3500\n",
            "3/3 [==============================] - 0s 16ms/step - loss: 0.5433 - accuracy: 0.8375 - val_loss: 0.6531 - val_accuracy: 0.6500\n",
            "Epoch 139/3500\n",
            "3/3 [==============================] - 0s 14ms/step - loss: 0.5426 - accuracy: 0.8250 - val_loss: 0.6516 - val_accuracy: 0.6500\n",
            "Epoch 140/3500\n",
            "3/3 [==============================] - 0s 15ms/step - loss: 0.5407 - accuracy: 0.8250 - val_loss: 0.6498 - val_accuracy: 0.7000\n",
            "Epoch 141/3500\n",
            "3/3 [==============================] - 0s 15ms/step - loss: 0.5398 - accuracy: 0.8125 - val_loss: 0.6496 - val_accuracy: 0.7000\n",
            "Epoch 142/3500\n",
            "3/3 [==============================] - 0s 15ms/step - loss: 0.5383 - accuracy: 0.8250 - val_loss: 0.6480 - val_accuracy: 0.7000\n",
            "Epoch 143/3500\n",
            "3/3 [==============================] - 0s 16ms/step - loss: 0.5374 - accuracy: 0.8375 - val_loss: 0.6462 - val_accuracy: 0.7000\n",
            "Epoch 144/3500\n",
            "3/3 [==============================] - 0s 15ms/step - loss: 0.5356 - accuracy: 0.8375 - val_loss: 0.6471 - val_accuracy: 0.6500\n",
            "Epoch 145/3500\n",
            "3/3 [==============================] - 0s 14ms/step - loss: 0.5344 - accuracy: 0.8375 - val_loss: 0.6476 - val_accuracy: 0.6500\n",
            "Epoch 146/3500\n",
            "3/3 [==============================] - 0s 17ms/step - loss: 0.5343 - accuracy: 0.8375 - val_loss: 0.6513 - val_accuracy: 0.6500\n",
            "Epoch 147/3500\n",
            "3/3 [==============================] - 0s 15ms/step - loss: 0.5324 - accuracy: 0.8250 - val_loss: 0.6526 - val_accuracy: 0.6500\n",
            "Epoch 148/3500\n",
            "3/3 [==============================] - 0s 16ms/step - loss: 0.5313 - accuracy: 0.8250 - val_loss: 0.6522 - val_accuracy: 0.6500\n",
            "Epoch 149/3500\n",
            "3/3 [==============================] - 0s 16ms/step - loss: 0.5310 - accuracy: 0.8250 - val_loss: 0.6520 - val_accuracy: 0.6000\n",
            "Epoch 150/3500\n",
            "3/3 [==============================] - 0s 15ms/step - loss: 0.5300 - accuracy: 0.8250 - val_loss: 0.6507 - val_accuracy: 0.6500\n",
            "Epoch 151/3500\n",
            "3/3 [==============================] - 0s 15ms/step - loss: 0.5284 - accuracy: 0.8250 - val_loss: 0.6503 - val_accuracy: 0.6500\n",
            "Epoch 152/3500\n",
            "3/3 [==============================] - 0s 14ms/step - loss: 0.5266 - accuracy: 0.8250 - val_loss: 0.6487 - val_accuracy: 0.6500\n",
            "Epoch 153/3500\n",
            "3/3 [==============================] - 0s 15ms/step - loss: 0.5264 - accuracy: 0.8125 - val_loss: 0.6468 - val_accuracy: 0.6500\n",
            "Epoch 154/3500\n",
            "3/3 [==============================] - 0s 14ms/step - loss: 0.5244 - accuracy: 0.8375 - val_loss: 0.6469 - val_accuracy: 0.6500\n",
            "Epoch 155/3500\n",
            "3/3 [==============================] - 0s 15ms/step - loss: 0.5237 - accuracy: 0.8375 - val_loss: 0.6451 - val_accuracy: 0.6500\n",
            "Epoch 156/3500\n",
            "3/3 [==============================] - 0s 13ms/step - loss: 0.5223 - accuracy: 0.8250 - val_loss: 0.6422 - val_accuracy: 0.6000\n",
            "Epoch 157/3500\n",
            "3/3 [==============================] - 0s 18ms/step - loss: 0.5205 - accuracy: 0.8375 - val_loss: 0.6404 - val_accuracy: 0.6500\n",
            "Epoch 158/3500\n",
            "3/3 [==============================] - 0s 14ms/step - loss: 0.5192 - accuracy: 0.8500 - val_loss: 0.6383 - val_accuracy: 0.6500\n",
            "Epoch 159/3500\n",
            "3/3 [==============================] - 0s 16ms/step - loss: 0.5179 - accuracy: 0.8500 - val_loss: 0.6360 - val_accuracy: 0.6500\n",
            "Epoch 160/3500\n",
            "3/3 [==============================] - 0s 20ms/step - loss: 0.5170 - accuracy: 0.8500 - val_loss: 0.6327 - val_accuracy: 0.6500\n",
            "Epoch 161/3500\n",
            "3/3 [==============================] - 0s 14ms/step - loss: 0.5157 - accuracy: 0.8500 - val_loss: 0.6311 - val_accuracy: 0.6500\n",
            "Epoch 162/3500\n",
            "3/3 [==============================] - 0s 14ms/step - loss: 0.5147 - accuracy: 0.8500 - val_loss: 0.6298 - val_accuracy: 0.6500\n",
            "Epoch 163/3500\n",
            "3/3 [==============================] - 0s 15ms/step - loss: 0.5139 - accuracy: 0.8500 - val_loss: 0.6276 - val_accuracy: 0.7000\n",
            "Epoch 164/3500\n",
            "3/3 [==============================] - 0s 17ms/step - loss: 0.5129 - accuracy: 0.8500 - val_loss: 0.6284 - val_accuracy: 0.7000\n",
            "Epoch 165/3500\n",
            "3/3 [==============================] - 0s 14ms/step - loss: 0.5121 - accuracy: 0.8500 - val_loss: 0.6284 - val_accuracy: 0.7000\n",
            "Epoch 166/3500\n",
            "3/3 [==============================] - 0s 14ms/step - loss: 0.5103 - accuracy: 0.8500 - val_loss: 0.6293 - val_accuracy: 0.7000\n",
            "Epoch 167/3500\n",
            "3/3 [==============================] - 0s 13ms/step - loss: 0.5091 - accuracy: 0.8375 - val_loss: 0.6312 - val_accuracy: 0.6500\n",
            "Epoch 168/3500\n",
            "3/3 [==============================] - 0s 18ms/step - loss: 0.5071 - accuracy: 0.8375 - val_loss: 0.6323 - val_accuracy: 0.6500\n",
            "Epoch 169/3500\n",
            "3/3 [==============================] - 0s 15ms/step - loss: 0.5063 - accuracy: 0.8375 - val_loss: 0.6323 - val_accuracy: 0.6500\n",
            "Epoch 170/3500\n",
            "3/3 [==============================] - 0s 14ms/step - loss: 0.5053 - accuracy: 0.8375 - val_loss: 0.6327 - val_accuracy: 0.6500\n",
            "Epoch 171/3500\n",
            "3/3 [==============================] - 0s 14ms/step - loss: 0.5047 - accuracy: 0.8625 - val_loss: 0.6311 - val_accuracy: 0.7000\n",
            "Epoch 172/3500\n",
            "3/3 [==============================] - 0s 14ms/step - loss: 0.5031 - accuracy: 0.8625 - val_loss: 0.6305 - val_accuracy: 0.7000\n",
            "Epoch 173/3500\n",
            "3/3 [==============================] - 0s 14ms/step - loss: 0.5023 - accuracy: 0.8625 - val_loss: 0.6304 - val_accuracy: 0.6500\n",
            "Epoch 174/3500\n",
            "3/3 [==============================] - 0s 15ms/step - loss: 0.5003 - accuracy: 0.8625 - val_loss: 0.6308 - val_accuracy: 0.6000\n",
            "Epoch 175/3500\n",
            "3/3 [==============================] - 0s 15ms/step - loss: 0.5000 - accuracy: 0.8625 - val_loss: 0.6310 - val_accuracy: 0.6000\n",
            "Epoch 176/3500\n",
            "3/3 [==============================] - 0s 16ms/step - loss: 0.4989 - accuracy: 0.8625 - val_loss: 0.6323 - val_accuracy: 0.6000\n",
            "Epoch 177/3500\n",
            "3/3 [==============================] - 0s 15ms/step - loss: 0.4990 - accuracy: 0.8625 - val_loss: 0.6307 - val_accuracy: 0.6000\n",
            "Epoch 178/3500\n",
            "3/3 [==============================] - 0s 15ms/step - loss: 0.4973 - accuracy: 0.8625 - val_loss: 0.6279 - val_accuracy: 0.6500\n",
            "Epoch 179/3500\n",
            "3/3 [==============================] - 0s 13ms/step - loss: 0.4955 - accuracy: 0.8750 - val_loss: 0.6247 - val_accuracy: 0.6500\n",
            "Epoch 180/3500\n",
            "3/3 [==============================] - 0s 14ms/step - loss: 0.4946 - accuracy: 0.8625 - val_loss: 0.6213 - val_accuracy: 0.7000\n",
            "Epoch 181/3500\n",
            "3/3 [==============================] - 0s 16ms/step - loss: 0.4936 - accuracy: 0.8875 - val_loss: 0.6199 - val_accuracy: 0.7000\n",
            "Epoch 182/3500\n",
            "3/3 [==============================] - 0s 19ms/step - loss: 0.4918 - accuracy: 0.8875 - val_loss: 0.6215 - val_accuracy: 0.7000\n",
            "Epoch 183/3500\n",
            "3/3 [==============================] - 0s 16ms/step - loss: 0.4909 - accuracy: 0.8750 - val_loss: 0.6227 - val_accuracy: 0.6500\n",
            "Epoch 184/3500\n",
            "3/3 [==============================] - 0s 13ms/step - loss: 0.4893 - accuracy: 0.8500 - val_loss: 0.6216 - val_accuracy: 0.6500\n",
            "Epoch 185/3500\n",
            "3/3 [==============================] - 0s 14ms/step - loss: 0.4881 - accuracy: 0.8625 - val_loss: 0.6205 - val_accuracy: 0.6500\n",
            "Epoch 186/3500\n",
            "3/3 [==============================] - 0s 17ms/step - loss: 0.4871 - accuracy: 0.8750 - val_loss: 0.6188 - val_accuracy: 0.6500\n",
            "Epoch 187/3500\n",
            "3/3 [==============================] - 0s 14ms/step - loss: 0.4858 - accuracy: 0.8750 - val_loss: 0.6184 - val_accuracy: 0.6500\n",
            "Epoch 188/3500\n",
            "3/3 [==============================] - 0s 16ms/step - loss: 0.4849 - accuracy: 0.8750 - val_loss: 0.6190 - val_accuracy: 0.6500\n",
            "Epoch 189/3500\n",
            "3/3 [==============================] - 0s 16ms/step - loss: 0.4835 - accuracy: 0.8625 - val_loss: 0.6209 - val_accuracy: 0.6000\n",
            "Epoch 190/3500\n",
            "3/3 [==============================] - 0s 15ms/step - loss: 0.4826 - accuracy: 0.8500 - val_loss: 0.6213 - val_accuracy: 0.6000\n",
            "Epoch 191/3500\n",
            "3/3 [==============================] - 0s 15ms/step - loss: 0.4820 - accuracy: 0.8500 - val_loss: 0.6213 - val_accuracy: 0.6000\n",
            "Epoch 192/3500\n",
            "3/3 [==============================] - 0s 16ms/step - loss: 0.4810 - accuracy: 0.8500 - val_loss: 0.6218 - val_accuracy: 0.6000\n",
            "Epoch 193/3500\n",
            "3/3 [==============================] - 0s 17ms/step - loss: 0.4792 - accuracy: 0.8500 - val_loss: 0.6209 - val_accuracy: 0.6000\n",
            "Epoch 194/3500\n",
            "3/3 [==============================] - 0s 14ms/step - loss: 0.4778 - accuracy: 0.8500 - val_loss: 0.6183 - val_accuracy: 0.6500\n",
            "Epoch 195/3500\n",
            "3/3 [==============================] - 0s 14ms/step - loss: 0.4774 - accuracy: 0.8625 - val_loss: 0.6165 - val_accuracy: 0.6500\n",
            "Epoch 196/3500\n",
            "3/3 [==============================] - 0s 15ms/step - loss: 0.4753 - accuracy: 0.8750 - val_loss: 0.6161 - val_accuracy: 0.6500\n",
            "Epoch 197/3500\n",
            "3/3 [==============================] - 0s 14ms/step - loss: 0.4744 - accuracy: 0.8750 - val_loss: 0.6156 - val_accuracy: 0.6500\n",
            "Epoch 198/3500\n",
            "3/3 [==============================] - 0s 15ms/step - loss: 0.4745 - accuracy: 0.8625 - val_loss: 0.6160 - val_accuracy: 0.6500\n",
            "Epoch 199/3500\n",
            "3/3 [==============================] - 0s 18ms/step - loss: 0.4743 - accuracy: 0.8625 - val_loss: 0.6125 - val_accuracy: 0.6500\n",
            "Epoch 200/3500\n",
            "3/3 [==============================] - 0s 15ms/step - loss: 0.4729 - accuracy: 0.8500 - val_loss: 0.6105 - val_accuracy: 0.6500\n",
            "Epoch 201/3500\n",
            "3/3 [==============================] - 0s 15ms/step - loss: 0.4705 - accuracy: 0.8500 - val_loss: 0.6090 - val_accuracy: 0.7000\n",
            "Epoch 202/3500\n",
            "3/3 [==============================] - 0s 14ms/step - loss: 0.4697 - accuracy: 0.8500 - val_loss: 0.6090 - val_accuracy: 0.7000\n",
            "Epoch 203/3500\n",
            "3/3 [==============================] - 0s 14ms/step - loss: 0.4693 - accuracy: 0.8500 - val_loss: 0.6095 - val_accuracy: 0.7000\n",
            "Epoch 204/3500\n",
            "3/3 [==============================] - 0s 15ms/step - loss: 0.4674 - accuracy: 0.8500 - val_loss: 0.6100 - val_accuracy: 0.7000\n",
            "Epoch 205/3500\n",
            "3/3 [==============================] - 0s 15ms/step - loss: 0.4669 - accuracy: 0.8500 - val_loss: 0.6102 - val_accuracy: 0.7000\n",
            "Epoch 206/3500\n",
            "3/3 [==============================] - 0s 14ms/step - loss: 0.4654 - accuracy: 0.8500 - val_loss: 0.6078 - val_accuracy: 0.7000\n",
            "Epoch 207/3500\n",
            "3/3 [==============================] - 0s 19ms/step - loss: 0.4648 - accuracy: 0.8625 - val_loss: 0.6082 - val_accuracy: 0.7000\n",
            "Epoch 208/3500\n",
            "3/3 [==============================] - 0s 18ms/step - loss: 0.4633 - accuracy: 0.8625 - val_loss: 0.6090 - val_accuracy: 0.7000\n",
            "Epoch 209/3500\n",
            "3/3 [==============================] - 0s 16ms/step - loss: 0.4618 - accuracy: 0.8750 - val_loss: 0.6089 - val_accuracy: 0.6500\n",
            "Epoch 210/3500\n",
            "3/3 [==============================] - 0s 15ms/step - loss: 0.4609 - accuracy: 0.8875 - val_loss: 0.6067 - val_accuracy: 0.6500\n",
            "Epoch 211/3500\n",
            "3/3 [==============================] - 0s 17ms/step - loss: 0.4598 - accuracy: 0.8625 - val_loss: 0.6046 - val_accuracy: 0.6500\n",
            "Epoch 212/3500\n",
            "3/3 [==============================] - 0s 15ms/step - loss: 0.4591 - accuracy: 0.8625 - val_loss: 0.6029 - val_accuracy: 0.6500\n",
            "Epoch 213/3500\n",
            "3/3 [==============================] - 0s 15ms/step - loss: 0.4580 - accuracy: 0.8750 - val_loss: 0.6032 - val_accuracy: 0.6500\n",
            "Epoch 214/3500\n",
            "3/3 [==============================] - 0s 17ms/step - loss: 0.4571 - accuracy: 0.8750 - val_loss: 0.6053 - val_accuracy: 0.6500\n",
            "Epoch 215/3500\n",
            "3/3 [==============================] - 0s 16ms/step - loss: 0.4561 - accuracy: 0.8875 - val_loss: 0.6081 - val_accuracy: 0.6500\n",
            "Epoch 216/3500\n",
            "3/3 [==============================] - 0s 16ms/step - loss: 0.4553 - accuracy: 0.8875 - val_loss: 0.6111 - val_accuracy: 0.6500\n",
            "Epoch 217/3500\n",
            "3/3 [==============================] - 0s 17ms/step - loss: 0.4543 - accuracy: 0.8750 - val_loss: 0.6097 - val_accuracy: 0.7000\n",
            "Epoch 218/3500\n",
            "3/3 [==============================] - 0s 14ms/step - loss: 0.4542 - accuracy: 0.8875 - val_loss: 0.6079 - val_accuracy: 0.6500\n",
            "Epoch 219/3500\n",
            "3/3 [==============================] - 0s 15ms/step - loss: 0.4520 - accuracy: 0.8875 - val_loss: 0.6047 - val_accuracy: 0.7000\n",
            "Epoch 220/3500\n",
            "3/3 [==============================] - 0s 13ms/step - loss: 0.4517 - accuracy: 0.8875 - val_loss: 0.6034 - val_accuracy: 0.6500\n",
            "Epoch 221/3500\n",
            "3/3 [==============================] - 0s 17ms/step - loss: 0.4500 - accuracy: 0.8625 - val_loss: 0.6041 - val_accuracy: 0.6500\n",
            "Epoch 222/3500\n",
            "3/3 [==============================] - 0s 17ms/step - loss: 0.4493 - accuracy: 0.8625 - val_loss: 0.6027 - val_accuracy: 0.6500\n",
            "Epoch 223/3500\n",
            "3/3 [==============================] - 0s 15ms/step - loss: 0.4475 - accuracy: 0.8625 - val_loss: 0.6049 - val_accuracy: 0.6500\n",
            "Epoch 224/3500\n",
            "3/3 [==============================] - 0s 17ms/step - loss: 0.4466 - accuracy: 0.8750 - val_loss: 0.6082 - val_accuracy: 0.6500\n",
            "Epoch 225/3500\n",
            "3/3 [==============================] - 0s 15ms/step - loss: 0.4464 - accuracy: 0.8625 - val_loss: 0.6124 - val_accuracy: 0.6000\n",
            "Epoch 226/3500\n",
            "3/3 [==============================] - 0s 14ms/step - loss: 0.4457 - accuracy: 0.8500 - val_loss: 0.6149 - val_accuracy: 0.6000\n",
            "Epoch 227/3500\n",
            "3/3 [==============================] - 0s 14ms/step - loss: 0.4449 - accuracy: 0.8500 - val_loss: 0.6125 - val_accuracy: 0.6500\n",
            "Epoch 228/3500\n",
            "3/3 [==============================] - 0s 15ms/step - loss: 0.4434 - accuracy: 0.8625 - val_loss: 0.6099 - val_accuracy: 0.6500\n",
            "Epoch 229/3500\n",
            "3/3 [==============================] - 0s 14ms/step - loss: 0.4419 - accuracy: 0.8750 - val_loss: 0.6064 - val_accuracy: 0.6500\n",
            "Epoch 230/3500\n",
            "3/3 [==============================] - 0s 14ms/step - loss: 0.4404 - accuracy: 0.8750 - val_loss: 0.6014 - val_accuracy: 0.6500\n",
            "Epoch 231/3500\n",
            "3/3 [==============================] - 0s 15ms/step - loss: 0.4402 - accuracy: 0.8625 - val_loss: 0.5968 - val_accuracy: 0.6500\n",
            "Epoch 232/3500\n",
            "3/3 [==============================] - 0s 19ms/step - loss: 0.4397 - accuracy: 0.8625 - val_loss: 0.5955 - val_accuracy: 0.6500\n",
            "Epoch 233/3500\n",
            "3/3 [==============================] - 0s 15ms/step - loss: 0.4387 - accuracy: 0.8625 - val_loss: 0.5958 - val_accuracy: 0.6500\n",
            "Epoch 234/3500\n",
            "3/3 [==============================] - 0s 17ms/step - loss: 0.4376 - accuracy: 0.8625 - val_loss: 0.5991 - val_accuracy: 0.6500\n",
            "Epoch 235/3500\n",
            "3/3 [==============================] - 0s 14ms/step - loss: 0.4363 - accuracy: 0.8625 - val_loss: 0.5997 - val_accuracy: 0.6500\n",
            "Epoch 236/3500\n",
            "3/3 [==============================] - 0s 16ms/step - loss: 0.4352 - accuracy: 0.8625 - val_loss: 0.5990 - val_accuracy: 0.6500\n",
            "Epoch 237/3500\n",
            "3/3 [==============================] - 0s 18ms/step - loss: 0.4351 - accuracy: 0.8625 - val_loss: 0.5986 - val_accuracy: 0.7000\n",
            "Epoch 238/3500\n",
            "3/3 [==============================] - 0s 17ms/step - loss: 0.4335 - accuracy: 0.8875 - val_loss: 0.5973 - val_accuracy: 0.7000\n",
            "Epoch 239/3500\n",
            "3/3 [==============================] - 0s 18ms/step - loss: 0.4325 - accuracy: 0.9000 - val_loss: 0.5951 - val_accuracy: 0.7500\n",
            "Epoch 240/3500\n",
            "3/3 [==============================] - 0s 15ms/step - loss: 0.4327 - accuracy: 0.8875 - val_loss: 0.5913 - val_accuracy: 0.6500\n",
            "Epoch 241/3500\n",
            "3/3 [==============================] - 0s 15ms/step - loss: 0.4313 - accuracy: 0.8750 - val_loss: 0.5880 - val_accuracy: 0.7000\n",
            "Epoch 242/3500\n",
            "3/3 [==============================] - 0s 16ms/step - loss: 0.4299 - accuracy: 0.8875 - val_loss: 0.5879 - val_accuracy: 0.6500\n",
            "Epoch 243/3500\n",
            "3/3 [==============================] - 0s 15ms/step - loss: 0.4290 - accuracy: 0.8875 - val_loss: 0.5900 - val_accuracy: 0.6500\n",
            "Epoch 244/3500\n",
            "3/3 [==============================] - 0s 15ms/step - loss: 0.4280 - accuracy: 0.8625 - val_loss: 0.5925 - val_accuracy: 0.6500\n",
            "Epoch 245/3500\n",
            "3/3 [==============================] - 0s 16ms/step - loss: 0.4273 - accuracy: 0.8750 - val_loss: 0.5940 - val_accuracy: 0.6500\n",
            "Epoch 246/3500\n",
            "3/3 [==============================] - 0s 14ms/step - loss: 0.4258 - accuracy: 0.8750 - val_loss: 0.5951 - val_accuracy: 0.6500\n",
            "Epoch 247/3500\n",
            "3/3 [==============================] - 0s 17ms/step - loss: 0.4249 - accuracy: 0.8750 - val_loss: 0.5954 - val_accuracy: 0.7000\n",
            "Epoch 248/3500\n",
            "3/3 [==============================] - 0s 16ms/step - loss: 0.4238 - accuracy: 0.8875 - val_loss: 0.5917 - val_accuracy: 0.7000\n",
            "Epoch 249/3500\n",
            "3/3 [==============================] - 0s 15ms/step - loss: 0.4231 - accuracy: 0.8875 - val_loss: 0.5896 - val_accuracy: 0.7000\n",
            "Epoch 250/3500\n",
            "3/3 [==============================] - 0s 16ms/step - loss: 0.4223 - accuracy: 0.8875 - val_loss: 0.5866 - val_accuracy: 0.7000\n",
            "Epoch 251/3500\n",
            "3/3 [==============================] - 0s 15ms/step - loss: 0.4211 - accuracy: 0.8875 - val_loss: 0.5852 - val_accuracy: 0.7000\n",
            "Epoch 252/3500\n",
            "3/3 [==============================] - 0s 13ms/step - loss: 0.4207 - accuracy: 0.8875 - val_loss: 0.5846 - val_accuracy: 0.7000\n",
            "Epoch 253/3500\n",
            "3/3 [==============================] - 0s 14ms/step - loss: 0.4199 - accuracy: 0.8875 - val_loss: 0.5856 - val_accuracy: 0.7000\n",
            "Epoch 254/3500\n",
            "3/3 [==============================] - 0s 16ms/step - loss: 0.4186 - accuracy: 0.8750 - val_loss: 0.5874 - val_accuracy: 0.7000\n",
            "Epoch 255/3500\n",
            "3/3 [==============================] - 0s 24ms/step - loss: 0.4178 - accuracy: 0.8750 - val_loss: 0.5897 - val_accuracy: 0.7000\n",
            "Epoch 256/3500\n",
            "3/3 [==============================] - 0s 18ms/step - loss: 0.4165 - accuracy: 0.8750 - val_loss: 0.5916 - val_accuracy: 0.6500\n",
            "Epoch 257/3500\n",
            "3/3 [==============================] - 0s 16ms/step - loss: 0.4156 - accuracy: 0.8750 - val_loss: 0.5948 - val_accuracy: 0.6000\n",
            "Epoch 258/3500\n",
            "3/3 [==============================] - 0s 14ms/step - loss: 0.4153 - accuracy: 0.8750 - val_loss: 0.5985 - val_accuracy: 0.5500\n",
            "Epoch 259/3500\n",
            "3/3 [==============================] - 0s 16ms/step - loss: 0.4149 - accuracy: 0.8750 - val_loss: 0.6000 - val_accuracy: 0.6000\n",
            "Epoch 260/3500\n",
            "3/3 [==============================] - 0s 14ms/step - loss: 0.4138 - accuracy: 0.8750 - val_loss: 0.5974 - val_accuracy: 0.6500\n",
            "Epoch 261/3500\n",
            "3/3 [==============================] - 0s 15ms/step - loss: 0.4130 - accuracy: 0.8750 - val_loss: 0.5960 - val_accuracy: 0.6500\n",
            "Epoch 262/3500\n",
            "3/3 [==============================] - 0s 16ms/step - loss: 0.4120 - accuracy: 0.8625 - val_loss: 0.5925 - val_accuracy: 0.7000\n",
            "Epoch 263/3500\n",
            "3/3 [==============================] - 0s 18ms/step - loss: 0.4109 - accuracy: 0.8625 - val_loss: 0.5903 - val_accuracy: 0.6500\n",
            "Epoch 264/3500\n",
            "3/3 [==============================] - 0s 27ms/step - loss: 0.4100 - accuracy: 0.8625 - val_loss: 0.5892 - val_accuracy: 0.6500\n",
            "Epoch 265/3500\n",
            "3/3 [==============================] - 0s 15ms/step - loss: 0.4092 - accuracy: 0.8625 - val_loss: 0.5897 - val_accuracy: 0.6500\n",
            "Epoch 266/3500\n",
            "3/3 [==============================] - 0s 15ms/step - loss: 0.4085 - accuracy: 0.8625 - val_loss: 0.5904 - val_accuracy: 0.6500\n",
            "Epoch 267/3500\n",
            "3/3 [==============================] - 0s 17ms/step - loss: 0.4081 - accuracy: 0.8625 - val_loss: 0.5916 - val_accuracy: 0.7000\n",
            "Epoch 268/3500\n",
            "3/3 [==============================] - 0s 18ms/step - loss: 0.4073 - accuracy: 0.8625 - val_loss: 0.5945 - val_accuracy: 0.7000\n",
            "Epoch 269/3500\n",
            "3/3 [==============================] - 0s 14ms/step - loss: 0.4058 - accuracy: 0.8750 - val_loss: 0.5950 - val_accuracy: 0.7000\n",
            "Epoch 270/3500\n",
            "3/3 [==============================] - 0s 17ms/step - loss: 0.4050 - accuracy: 0.8750 - val_loss: 0.5944 - val_accuracy: 0.7000\n",
            "Epoch 271/3500\n",
            "3/3 [==============================] - 0s 15ms/step - loss: 0.4041 - accuracy: 0.8875 - val_loss: 0.5940 - val_accuracy: 0.7000\n",
            "Epoch 272/3500\n",
            "3/3 [==============================] - 0s 17ms/step - loss: 0.4041 - accuracy: 0.8875 - val_loss: 0.5887 - val_accuracy: 0.7000\n",
            "Epoch 272: early stopping\n"
          ]
        }
      ]
    },
    {
      "cell_type": "code",
      "source": [
        "plt.plot(history.history['loss'], label='train')\n",
        "plt.plot(history.history['val_loss'], label='test')\n",
        "plt.legend()\n",
        "plt.show()"
      ],
      "metadata": {
        "colab": {
          "base_uri": "https://localhost:8080/",
          "height": 265
        },
        "id": "16JFPmXaEZv6",
        "outputId": "f8015440-6147-451f-ac06-050b9ec96e20"
      },
      "execution_count": 30,
      "outputs": [
        {
          "output_type": "display_data",
          "data": {
            "text/plain": [
              "<Figure size 432x288 with 1 Axes>"
            ],
            "image/png": "[encoded data removed]"
          },
          "metadata": {
            "needs_background": "light"
          }
        }
      ]
    },
    {
      "cell_type": "code",
      "source": [
        "plot_decision_regions(X_test, y_test.ravel(), clf = model, legend=2)\n",
        "plt.show()"
      ],
      "metadata": {
        "colab": {
          "base_uri": "https://localhost:8080/",
          "height": 320
        },
        "id": "rVWTxKRUEZtZ",
        "outputId": "04fb263f-6a10-4cad-e383-f075ffd8d080"
      },
      "execution_count": 31,
      "outputs": [
        {
          "output_type": "stream",
          "name": "stderr",
          "text": [
            "/usr/local/lib/python3.7/dist-packages/mlxtend/plotting/decision_regions.py:244: MatplotlibDeprecationWarning: Passing unsupported keyword arguments to axis() will raise a TypeError in 3.3.\n",
            "  ax.axis(xmin=xx.min(), xmax=xx.max(), y_min=yy.min(), y_max=yy.max())\n"
          ]
        },
        {
          "output_type": "display_data",
          "data": {
            "text/plain": [
              "<Figure size 432x288 with 1 Axes>"
            ],
            "image/png": "[encoded data removed]"
          },
          "metadata": {
            "needs_background": "light"
          }
        }
      ]
    },
    {
      "cell_type": "code",
      "source": [
        ""
      ],
      "metadata": {
        "id": "2jnNgy0rEn4y"
      },
      "execution_count": 31,
      "outputs": []
    },
    {
      "cell_type": "code",
      "source": [
        ""
      ],
      "metadata": {
        "id": "WxGUTPiAEn09"
      },
      "execution_count": null,
      "outputs": []
    },
    {
      "cell_type": "code",
      "source": [
        ""
      ],
      "metadata": {
        "id": "YV7BnYHQEnyX"
      },
      "execution_count": null,
      "outputs": []
    }
  ]
}